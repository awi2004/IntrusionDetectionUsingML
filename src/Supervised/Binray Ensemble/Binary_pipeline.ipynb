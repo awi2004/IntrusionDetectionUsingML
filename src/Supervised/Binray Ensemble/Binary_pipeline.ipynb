{
 "cells": [
  {
   "cell_type": "code",
   "execution_count": 1,
   "metadata": {},
   "outputs": [],
   "source": [
    "import pickle\n",
    "import pandas as pd\n",
    "import numpy as np\n",
    "from sklearn.ensemble import RandomForestClassifier\n",
    "#from sklearn.datasets import make_classification\n",
    "from sklearn.model_selection import train_test_split\n",
    "from sklearn.metrics import precision_recall_fscore_support\n",
    "from sklearn import metrics\n",
    "from sklearn import manifold\n",
    "from matplotlib import pyplot as plt\n",
    "from tsne import bh_sne"
   ]
  },
  {
   "cell_type": "code",
   "execution_count": 22,
   "metadata": {},
   "outputs": [],
   "source": [
    "with open('/Users/akumarmandapati/Downloads/labelDict.bin','rb') as fin :\n",
    "    dd = pickle.load(fin)"
   ]
  },
  {
   "cell_type": "code",
   "execution_count": 672,
   "metadata": {},
   "outputs": [],
   "source": [
    "attacList= list(dd.keys())"
   ]
  },
  {
   "cell_type": "code",
   "execution_count": 23,
   "metadata": {},
   "outputs": [
    {
     "data": {
      "text/plain": [
       "{'DoS slowloris': ['Flow Duration',\n",
       "  'Fwd IAT Min',\n",
       "  'Bwd IAT Mean',\n",
       "  'Fwd IAT Mean'],\n",
       " 'SSH-Patator': ['Init_Win_bytes_forward',\n",
       "  'Subflow Fwd Bytes',\n",
       "  'Total Length of Fwd Packets',\n",
       "  'ACK Flag Count'],\n",
       " 'DoS Slowhttptest': ['Flow Duration',\n",
       "  'Active Min',\n",
       "  'Active Mean',\n",
       "  'Flow IAT Std'],\n",
       " 'FTP-Patator': ['Init_Win_bytes_forward',\n",
       "  'Fwd PSH Flags',\n",
       "  'SYN Flag Count',\n",
       "  'Fwd Packets/s'],\n",
       " 'Heartbleed': ['Bwd Packet Length Std',\n",
       "  'Subflow Fwd Bytes',\n",
       "  'Flow Duration',\n",
       "  'Total Length of Fwd Packets'],\n",
       " 'Web-Attack': ['Init_Win_bytes_forward',\n",
       "  'Subflow Fwd Bytes',\n",
       "  'Init_Win_bytes_backward',\n",
       "  'Total Length of Fwd Packets'],\n",
       " 'DoS Hulk': ['Bwd Packet Length Std', 'Flow Duration', 'Flow IAT Std'],\n",
       " 'Infiltration': ['Subflow Fwd Bytes',\n",
       "  'Total Length of Fwd Packets',\n",
       "  'Flow Duration',\n",
       "  'Active Mean'],\n",
       " 'Bot': ['Subflow Fwd Bytes',\n",
       "  'Total Length of Fwd Packets',\n",
       "  'Fwd Packet Length Mean',\n",
       "  'Bwd Packets/s'],\n",
       " 'DDoS': ['Bwd Packet Length Std',\n",
       "  'Average Packet Size',\n",
       "  'Flow Duration',\n",
       "  'Flow IAT Std'],\n",
       " 'PortScan': ['Init_Win_bytes_forward', 'Bwd Packets/s', 'PSH Flag Count'],\n",
       " 'DoS GoldenEye': ['Bwd Packet Length Std',\n",
       "  'Flow IAT Min',\n",
       "  'Fwd IAT Min',\n",
       "  'Flow IAT Mean']}"
      ]
     },
     "execution_count": 23,
     "metadata": {},
     "output_type": "execute_result"
    }
   ],
   "source": [
    "dd"
   ]
  },
  {
   "cell_type": "code",
   "execution_count": 555,
   "metadata": {},
   "outputs": [],
   "source": [
    "# save this in place of old dict\n",
    "dd = {'DoS slowloris': ['Flow Duration',\n",
    "  'Fwd IAT Min',\n",
    "  'Bwd IAT Mean',\n",
    "  'Fwd IAT Mean'],\n",
    " 'SSH-Patator': ['Init_Win_bytes_forward',\n",
    "  'Subflow Fwd Bytes',\n",
    "  'Total Length of Fwd Packets',\n",
    "  'ACK Flag Count'],\n",
    " 'DoS Slowhttptest': ['Flow Duration',\n",
    "  'Active Min',\n",
    "  'Active Mean',\n",
    "  'Flow IAT Std'],\n",
    " 'FTP-Patator': ['Init_Win_bytes_forward',\n",
    "  'Fwd PSH Flags',\n",
    "  'SYN Flag Count',\n",
    "  'Fwd Packets/s'],\n",
    " 'Heartbleed': ['Bwd Packet Length Std',\n",
    "  'Subflow Fwd Bytes',\n",
    "  'Flow Duration',\n",
    "  'Total Length of Fwd Packets'],\n",
    " 'Web-Attack': ['Init_Win_bytes_forward',\n",
    "  'Subflow Fwd Bytes',\n",
    "  'Init_Win_bytes_backward',\n",
    "  'Total Length of Fwd Packets'],\n",
    " 'DoS Hulk': ['Bwd Packet Length Std', 'Flow Duration', 'Flow IAT Std'],\n",
    " 'Infiltration': ['Subflow Fwd Bytes',\n",
    "  'Total Length of Fwd Packets',\n",
    "  'Flow Duration',\n",
    "  'Active Mean'],\n",
    " 'Bot': ['Subflow Fwd Bytes',\n",
    "  'Total Length of Fwd Packets',\n",
    "  'Fwd Packet Length Mean',\n",
    "  'Bwd Packets/s'],\n",
    " 'DDoS': ['Bwd Packet Length Std',\n",
    "  'Average Packet Size',\n",
    "  'Flow Duration',\n",
    "  'Flow IAT Std'],\n",
    " 'PortScan': ['Init_Win_bytes_forward', 'Bwd Packets/s', 'PSH Flag Count'],\n",
    " 'DoS GoldenEye': ['Bwd Packet Length Std',\n",
    "  'Flow IAT Min',\n",
    "  'Fwd IAT Min',\n",
    "  'Flow IAT Mean']}"
   ]
  },
  {
   "cell_type": "code",
   "execution_count": 557,
   "metadata": {},
   "outputs": [],
   "source": [
    "with open('/Users/akumarmandapati/Downloads/labelDict.bin','wb') as fin :\n",
    "    pickle.dump(dd,fin,protocol=pickle.DEFAULT_PROTOCOL)"
   ]
  },
  {
   "cell_type": "code",
   "execution_count": 4,
   "metadata": {},
   "outputs": [
    {
     "name": "stderr",
     "output_type": "stream",
     "text": [
      "/Library/Frameworks/Python.framework/Versions/3.6/lib/python3.6/site-packages/IPython/core/interactiveshell.py:2785: DtypeWarning: Columns (0,1,2,3,4,5,6,7,8,9,10,11,12,13,14,15,16,17,18,19,20,21) have mixed types. Specify dtype option on import or set low_memory=False.\n",
      "  interactivity=interactivity, compiler=compiler, result=result)\n"
     ]
    }
   ],
   "source": [
    "#only Attack dataset\n",
    "attacks_df = pd.read_csv(\"attacks.csv\" ,encoding='ISO-8859-1')"
   ]
  },
  {
   "cell_type": "code",
   "execution_count": 869,
   "metadata": {},
   "outputs": [],
   "source": [
    "alldf = pd.read_csv(\"Data-Final/attacks_now.csv\" ,encoding='ISO-8859-1')"
   ]
  },
  {
   "cell_type": "code",
   "execution_count": 870,
   "metadata": {},
   "outputs": [],
   "source": [
    "y_label_all = alldf.pop(\"Label\") #Contains the label column"
   ]
  },
  {
   "cell_type": "code",
   "execution_count": 871,
   "metadata": {},
   "outputs": [],
   "source": [
    "X_train, X_test, y_train, y_test = train_test_split(alldf,y_label_all, test_size=0.20, random_state=0,stratify=y_label_all)"
   ]
  },
  {
   "cell_type": "code",
   "execution_count": 872,
   "metadata": {},
   "outputs": [
    {
     "data": {
      "text/plain": [
       "Index(['Fwd PSH Flags', 'Fwd IAT Mean', 'Fwd Packets/s', 'Flow IAT Min',\n",
       "       'Init_Win_bytes_forward', 'Bwd Packet Length Std', 'ACK Flag Count',\n",
       "       'Subflow Fwd Bytes', 'Average Packet Size', 'Fwd IAT Min',\n",
       "       'Active Mean', 'Total Length of Fwd Packets', 'Fwd Packet Length Mean',\n",
       "       'Bwd Packets/s', 'Init_Win_bytes_backward', 'Flow Duration',\n",
       "       'Flow IAT Mean', 'Bwd IAT Mean', 'Active Min', 'Bwd Packet Length Min',\n",
       "       'SYN Flag Count', 'PSH Flag Count', 'Flow IAT Std'],\n",
       "      dtype='object')"
      ]
     },
     "execution_count": 872,
     "metadata": {},
     "output_type": "execute_result"
    }
   ],
   "source": [
    "X_test.columns"
   ]
  },
  {
   "cell_type": "code",
   "execution_count": 873,
   "metadata": {},
   "outputs": [
    {
     "data": {
      "text/plain": [
       "DoS Hulk            46215\n",
       "PortScan            31786\n",
       "DDoS                 8367\n",
       "DoS GoldenEye        2059\n",
       "FTP-Patator          1588\n",
       "SSH-Patator          1179\n",
       "DoS slowloris        1159\n",
       "DoS Slowhttptest     1100\n",
       "BENIGN                580\n",
       "Web-Attack            436\n",
       "Bot                   393\n",
       "Infiltration            7\n",
       "Heartbleed              2\n",
       "Name: Label, dtype: int64"
      ]
     },
     "execution_count": 873,
     "metadata": {},
     "output_type": "execute_result"
    }
   ],
   "source": [
    "y_test.value_counts()"
   ]
  },
  {
   "cell_type": "code",
   "execution_count": 15,
   "metadata": {},
   "outputs": [
    {
     "name": "stderr",
     "output_type": "stream",
     "text": [
      "/Library/Frameworks/Python.framework/Versions/3.6/lib/python3.6/site-packages/IPython/core/interactiveshell.py:2785: DtypeWarning: Columns (0,1,2,3,4,5,6,7,8,9,10,11,12,13,14,15,16,17,18,19,20,21) have mixed types. Specify dtype option on import or set low_memory=False.\n",
      "  interactivity=interactivity, compiler=compiler, result=result)\n"
     ]
    }
   ],
   "source": [
    "attacks_f = pd.read_csv(\"attacks.csv\" ,encoding='ISO-8859-1')"
   ]
  },
  {
   "cell_type": "code",
   "execution_count": 18,
   "metadata": {},
   "outputs": [
    {
     "data": {
      "text/plain": [
       "DoS Hulk            231073\n",
       "PortScan            158930\n",
       "DDoS                 41835\n",
       "DoS GoldenEye        10293\n",
       "FTP-Patator           7938\n",
       "SSH-Patator           5897\n",
       "DoS slowloris         5796\n",
       "DoS Slowhttptest      5499\n",
       "Web-Attack            2180\n",
       "Bot                   1966\n",
       "Infiltration            36\n",
       "Heartbleed              11\n",
       "Name: nLabel, dtype: int64"
      ]
     },
     "execution_count": 18,
     "metadata": {},
     "output_type": "execute_result"
    }
   ],
   "source": [
    "attacks_f.nLabel.value_counts()"
   ]
  },
  {
   "cell_type": "code",
   "execution_count": 17,
   "metadata": {},
   "outputs": [],
   "source": [
    "attacks_f = attacks_f[attacks_f.nLabel!=' Label']"
   ]
  },
  {
   "cell_type": "code",
   "execution_count": 19,
   "metadata": {},
   "outputs": [],
   "source": [
    "#y_Label = attacks_df.pop(\"nLabel\") #Contains the label column\n",
    "\n",
    "y_label = attacks_f.pop(\"nLabel\") #Contains the label column"
   ]
  },
  {
   "cell_type": "code",
   "execution_count": 602,
   "metadata": {},
   "outputs": [
    {
     "data": {
      "text/plain": [
       "dtype('O')"
      ]
     },
     "execution_count": 602,
     "metadata": {},
     "output_type": "execute_result"
    }
   ],
   "source": [
    "y_Label.dtypes"
   ]
  },
  {
   "cell_type": "code",
   "execution_count": 20,
   "metadata": {},
   "outputs": [
    {
     "data": {
      "text/plain": [
       "Index(['Bwd Packets/s', 'Init_Win_bytes_backward', 'ACK Flag Count',\n",
       "       'Total Length of Fwd Packets', 'Subflow Fwd Bytes',\n",
       "       'Fwd Packet Length Mean', 'Flow IAT Min', 'Bwd IAT Mean',\n",
       "       'Flow Duration', 'Flow IAT Std', 'Active Mean', 'Fwd PSH Flags',\n",
       "       'Flow IAT Mean', 'Active Min', 'Bwd Packet Length Std',\n",
       "       'Init_Win_bytes_forward', 'Average Packet Size', 'Fwd IAT Min',\n",
       "       'SYN Flag Count', 'PSH Flag Count', 'Fwd IAT Mean', 'Fwd Packets/s'],\n",
       "      dtype='object')"
      ]
     },
     "execution_count": 20,
     "metadata": {},
     "output_type": "execute_result"
    }
   ],
   "source": [
    "attacks_f.columns"
   ]
  },
  {
   "cell_type": "code",
   "execution_count": 21,
   "metadata": {},
   "outputs": [],
   "source": [
    "X_train, X_test, y_train, y_test = train_test_split(attacks_f,y_label, test_size=0.20, random_state=0,stratify=y_label)\n",
    "\n",
    "#X_train, X_test, y_train, y_test = train_test_split(final_df,y_label, test_size=0.10, random_state=0,stratify=y_label)"
   ]
  },
  {
   "cell_type": "code",
   "execution_count": 11,
   "metadata": {
    "scrolled": true
   },
   "outputs": [
    {
     "name": "stderr",
     "output_type": "stream",
     "text": [
      "/Library/Frameworks/Python.framework/Versions/3.6/lib/python3.6/site-packages/pandas/core/frame.py:2540: SettingWithCopyWarning: \n",
      "A value is trying to be set on a copy of a slice from a DataFrame.\n",
      "Try using .loc[row_indexer,col_indexer] = value instead\n",
      "\n",
      "See the caveats in the documentation: http://pandas.pydata.org/pandas-docs/stable/indexing.html#indexing-view-versus-copy\n",
      "  self[k1] = value[k2]\n"
     ]
    },
    {
     "name": "stdout",
     "output_type": "stream",
     "text": [
      "(377163, 22)\n",
      "(94291, 22)\n"
     ]
    }
   ],
   "source": [
    "X_train.dtypes.eq(object)\n",
    "c=X_train.columns[X_train.dtypes.eq(object)]\n",
    "X_train[c]=X_train[c].apply(pd.to_numeric, errors='coerce', axis=0)\n",
    "print(X_train.shape)\n",
    "\n",
    "# Converting objects to numeric \n",
    "X_test.dtypes.eq(object)\n",
    "c=X_test.columns[X_test.dtypes.eq(object)]\n",
    "X_test[c]=X_test[c].apply(pd.to_numeric, errors='coerce', axis=0)\n",
    "print(X_test.shape)"
   ]
  },
  {
   "cell_type": "code",
   "execution_count": 851,
   "metadata": {},
   "outputs": [],
   "source": [
    "X_train.to_csv(\"/Users/akumarmandapati/git/AIC/Data-Final/X_train_all_final.csv\",index=None)\n",
    "X_test.to_csv(\"/Users/akumarmandapati/git/AIC/Data-Final/X_test_all_final.csv\",index=None)"
   ]
  },
  {
   "cell_type": "code",
   "execution_count": 852,
   "metadata": {},
   "outputs": [],
   "source": [
    "y_train.to_csv(\"/Users/akumarmandapati/git/AIC/Data-Final/y_train_all_final.csv\",index=None)\n",
    "y_test.to_csv(\"/Users/akumarmandapati/git/AIC/Data-Final/y_test_all_final.csv\",index=None)"
   ]
  },
  {
   "cell_type": "code",
   "execution_count": 12,
   "metadata": {},
   "outputs": [
    {
     "data": {
      "text/plain": [
       "DoS Hulk            46215\n",
       "PortScan            31786\n",
       "DDoS                 8367\n",
       "DoS GoldenEye        2059\n",
       "FTP-Patator          1588\n",
       "SSH-Patator          1179\n",
       "DoS slowloris        1159\n",
       "DoS Slowhttptest     1100\n",
       "Web-Attack            436\n",
       "Bot                   393\n",
       "Infiltration            7\n",
       "Heartbleed              2\n",
       "Name: nLabel, dtype: int64"
      ]
     },
     "execution_count": 12,
     "metadata": {},
     "output_type": "execute_result"
    }
   ],
   "source": [
    "y_test.value_counts()"
   ]
  },
  {
   "cell_type": "code",
   "execution_count": 607,
   "metadata": {},
   "outputs": [],
   "source": [
    "#Encoding values for the labels being passed in the mainfunc\n",
    "def encoder(x,y):\n",
    "    if x==y : return 1\n",
    "    else: return 0"
   ]
  },
  {
   "cell_type": "code",
   "execution_count": 608,
   "metadata": {},
   "outputs": [],
   "source": [
    "def mainfunc(dd, X_train,y_train, X_test,y_test):\n",
    "    for val in  list(dd.keys()): # For each attack type\n",
    "        #print(val)\n",
    "        cols = dd[val] # Important feature column for that attack type\n",
    "        _df_train = X_train[cols]\n",
    "        _df_test = X_test[cols]\n",
    "        \n",
    "        print(\"Train dataset\",_df_train.shape)\n",
    "        print(\"Test dataset\",_df_test.shape)\n",
    "        clf = RandomForestClassifier(max_depth=50,min_samples_leaf=3,n_estimators=400, random_state=0,class_weight='balanced',verbose=1, n_jobs= -1)\n",
    "    \n",
    "        y_tt = y_train.map(lambda x : encoder(x,val)).values\n",
    "        trueLabel = y_test.map(lambda x : encoder(x,val)).values\n",
    "        clf.fit(_df_train, y_tt)\n",
    "        y_predict = clf.predict(_df_test)\n",
    "       \n",
    "        print(metrics.classification_report(trueLabel, y_predict))\n",
    "        \n",
    "        print(\"\\n\")\n",
    "         \n",
    "        with open(val+\".bin\",\"wb\") as fout:\n",
    "            pickle.dump(clf,fout,pickle.DEFAULT_PROTOCOL)\n",
    "        print(\"done:\",val) \n",
    "        \n",
    "        df_class_report = pandas_classification_report(y_true=trueLabel, y_pred=y_predict)\n",
    "        df_class_report.to_csv(val+\".csv\",  sep=',')\n",
    "        print(\"Saving Classification Report for :\",val)"
   ]
  },
  {
   "cell_type": "code",
   "execution_count": 1033,
   "metadata": {},
   "outputs": [
    {
     "name": "stdout",
     "output_type": "stream",
     "text": [
      "Train dataset (377163, 4)\n",
      "Test dataset (94291, 4)\n"
     ]
    },
    {
     "name": "stderr",
     "output_type": "stream",
     "text": [
      "[Parallel(n_jobs=-1)]: Done  34 tasks      | elapsed:    4.0s\n",
      "[Parallel(n_jobs=-1)]: Done 184 tasks      | elapsed:   18.9s\n",
      "[Parallel(n_jobs=-1)]: Done 400 out of 400 | elapsed:   38.3s finished\n",
      "[Parallel(n_jobs=8)]: Done  34 tasks      | elapsed:    0.1s\n",
      "[Parallel(n_jobs=8)]: Done 184 tasks      | elapsed:    0.3s\n",
      "[Parallel(n_jobs=8)]: Done 400 out of 400 | elapsed:    0.6s finished\n",
      "[Parallel(n_jobs=8)]: Done  34 tasks      | elapsed:    0.1s\n",
      "[Parallel(n_jobs=8)]: Done 184 tasks      | elapsed:    0.3s\n",
      "[Parallel(n_jobs=8)]: Done 400 out of 400 | elapsed:    0.5s finished\n"
     ]
    },
    {
     "name": "stdout",
     "output_type": "stream",
     "text": [
      "             precision    recall  f1-score   support\n",
      "\n",
      "          0       1.00      1.00      1.00     93132\n",
      "          1       0.77      0.91      0.83      1159\n",
      "\n",
      "avg / total       1.00      1.00      1.00     94291\n",
      "\n",
      "\n",
      "\n",
      "done: DoS slowloris\n",
      "Saving Classification Report for : DoS slowloris\n",
      "Train dataset (377163, 4)\n",
      "Test dataset (94291, 4)\n"
     ]
    },
    {
     "name": "stderr",
     "output_type": "stream",
     "text": [
      "[Parallel(n_jobs=-1)]: Done  34 tasks      | elapsed:    1.9s\n",
      "[Parallel(n_jobs=-1)]: Done 184 tasks      | elapsed:    9.6s\n",
      "[Parallel(n_jobs=-1)]: Done 400 out of 400 | elapsed:   20.9s finished\n",
      "[Parallel(n_jobs=8)]: Done  34 tasks      | elapsed:    0.1s\n",
      "[Parallel(n_jobs=8)]: Done 184 tasks      | elapsed:    0.3s\n",
      "[Parallel(n_jobs=8)]: Done 400 out of 400 | elapsed:    0.6s finished\n",
      "[Parallel(n_jobs=8)]: Done  34 tasks      | elapsed:    0.0s\n",
      "[Parallel(n_jobs=8)]: Done 184 tasks      | elapsed:    0.2s\n",
      "[Parallel(n_jobs=8)]: Done 400 out of 400 | elapsed:    0.5s finished\n"
     ]
    },
    {
     "name": "stdout",
     "output_type": "stream",
     "text": [
      "             precision    recall  f1-score   support\n",
      "\n",
      "          0       1.00      1.00      1.00     93112\n",
      "          1       0.98      0.99      0.98      1179\n",
      "\n",
      "avg / total       1.00      1.00      1.00     94291\n",
      "\n",
      "\n",
      "\n",
      "done: SSH-Patator\n",
      "Saving Classification Report for : SSH-Patator\n",
      "Train dataset (377163, 4)\n",
      "Test dataset (94291, 4)\n"
     ]
    },
    {
     "name": "stderr",
     "output_type": "stream",
     "text": [
      "[Parallel(n_jobs=-1)]: Done  34 tasks      | elapsed:    3.7s\n",
      "[Parallel(n_jobs=-1)]: Done 184 tasks      | elapsed:   17.1s\n",
      "[Parallel(n_jobs=-1)]: Done 400 out of 400 | elapsed:   37.8s finished\n",
      "[Parallel(n_jobs=8)]: Done  34 tasks      | elapsed:    0.1s\n",
      "[Parallel(n_jobs=8)]: Done 184 tasks      | elapsed:    0.3s\n",
      "[Parallel(n_jobs=8)]: Done 400 out of 400 | elapsed:    0.6s finished\n",
      "[Parallel(n_jobs=8)]: Done  34 tasks      | elapsed:    0.1s\n",
      "[Parallel(n_jobs=8)]: Done 184 tasks      | elapsed:    0.4s\n",
      "[Parallel(n_jobs=8)]: Done 400 out of 400 | elapsed:    0.9s finished\n"
     ]
    },
    {
     "name": "stdout",
     "output_type": "stream",
     "text": [
      "             precision    recall  f1-score   support\n",
      "\n",
      "          0       1.00      0.99      1.00     93191\n",
      "          1       0.62      0.92      0.75      1100\n",
      "\n",
      "avg / total       0.99      0.99      0.99     94291\n",
      "\n",
      "\n",
      "\n",
      "done: DoS Slowhttptest\n",
      "Saving Classification Report for : DoS Slowhttptest\n",
      "Train dataset (377163, 4)\n",
      "Test dataset (94291, 4)\n"
     ]
    },
    {
     "name": "stderr",
     "output_type": "stream",
     "text": [
      "[Parallel(n_jobs=-1)]: Done  34 tasks      | elapsed:    2.3s\n",
      "[Parallel(n_jobs=-1)]: Done 184 tasks      | elapsed:   10.9s\n",
      "[Parallel(n_jobs=-1)]: Done 400 out of 400 | elapsed:   21.1s finished\n",
      "[Parallel(n_jobs=8)]: Done  34 tasks      | elapsed:    0.1s\n",
      "[Parallel(n_jobs=8)]: Done 184 tasks      | elapsed:    0.2s\n",
      "[Parallel(n_jobs=8)]: Done 400 out of 400 | elapsed:    0.5s finished\n",
      "[Parallel(n_jobs=8)]: Done  34 tasks      | elapsed:    0.0s\n",
      "[Parallel(n_jobs=8)]: Done 184 tasks      | elapsed:    0.2s\n",
      "[Parallel(n_jobs=8)]: Done 400 out of 400 | elapsed:    0.5s finished\n"
     ]
    },
    {
     "name": "stdout",
     "output_type": "stream",
     "text": [
      "             precision    recall  f1-score   support\n",
      "\n",
      "          0       1.00      1.00      1.00     92703\n",
      "          1       0.89      0.99      0.93      1588\n",
      "\n",
      "avg / total       1.00      1.00      1.00     94291\n",
      "\n",
      "\n",
      "\n",
      "done: FTP-Patator\n",
      "Saving Classification Report for : FTP-Patator\n",
      "Train dataset (377163, 4)\n",
      "Test dataset (94291, 4)\n"
     ]
    },
    {
     "name": "stderr",
     "output_type": "stream",
     "text": [
      "[Parallel(n_jobs=-1)]: Done  34 tasks      | elapsed:    1.2s\n",
      "[Parallel(n_jobs=-1)]: Done 184 tasks      | elapsed:    5.2s\n",
      "[Parallel(n_jobs=-1)]: Done 400 out of 400 | elapsed:   10.5s finished\n",
      "[Parallel(n_jobs=8)]: Done  34 tasks      | elapsed:    0.0s\n",
      "[Parallel(n_jobs=8)]: Done 184 tasks      | elapsed:    0.2s\n",
      "[Parallel(n_jobs=8)]: Done 400 out of 400 | elapsed:    0.3s finished\n",
      "[Parallel(n_jobs=8)]: Done  34 tasks      | elapsed:    0.0s\n",
      "[Parallel(n_jobs=8)]: Done 184 tasks      | elapsed:    0.1s\n",
      "[Parallel(n_jobs=8)]: Done 400 out of 400 | elapsed:    0.3s finished\n"
     ]
    },
    {
     "name": "stdout",
     "output_type": "stream",
     "text": [
      "             precision    recall  f1-score   support\n",
      "\n",
      "          0       1.00      1.00      1.00     94289\n",
      "          1       1.00      1.00      1.00         2\n",
      "\n",
      "avg / total       1.00      1.00      1.00     94291\n",
      "\n",
      "\n",
      "\n",
      "done: Heartbleed\n",
      "Saving Classification Report for : Heartbleed\n",
      "Train dataset (377163, 4)\n",
      "Test dataset (94291, 4)\n"
     ]
    },
    {
     "name": "stderr",
     "output_type": "stream",
     "text": [
      "[Parallel(n_jobs=-1)]: Done  34 tasks      | elapsed:    1.7s\n",
      "[Parallel(n_jobs=-1)]: Done 184 tasks      | elapsed:    9.1s\n",
      "[Parallel(n_jobs=-1)]: Done 400 out of 400 | elapsed:   19.1s finished\n",
      "[Parallel(n_jobs=8)]: Done  34 tasks      | elapsed:    0.1s\n",
      "[Parallel(n_jobs=8)]: Done 184 tasks      | elapsed:    0.3s\n",
      "[Parallel(n_jobs=8)]: Done 400 out of 400 | elapsed:    0.6s finished\n",
      "[Parallel(n_jobs=8)]: Done  34 tasks      | elapsed:    0.0s\n",
      "[Parallel(n_jobs=8)]: Done 184 tasks      | elapsed:    0.2s\n",
      "[Parallel(n_jobs=8)]: Done 400 out of 400 | elapsed:    0.4s finished\n"
     ]
    },
    {
     "name": "stdout",
     "output_type": "stream",
     "text": [
      "             precision    recall  f1-score   support\n",
      "\n",
      "          0       1.00      1.00      1.00     93855\n",
      "          1       0.65      0.99      0.79       436\n",
      "\n",
      "avg / total       1.00      1.00      1.00     94291\n",
      "\n",
      "\n",
      "\n",
      "done: Web-Attack\n",
      "Saving Classification Report for : Web-Attack\n",
      "Train dataset (377163, 3)\n",
      "Test dataset (94291, 3)\n"
     ]
    },
    {
     "name": "stderr",
     "output_type": "stream",
     "text": [
      "[Parallel(n_jobs=-1)]: Done  34 tasks      | elapsed:    4.0s\n",
      "[Parallel(n_jobs=-1)]: Done 184 tasks      | elapsed:   18.7s\n",
      "[Parallel(n_jobs=-1)]: Done 400 out of 400 | elapsed:   43.2s finished\n",
      "[Parallel(n_jobs=8)]: Done  34 tasks      | elapsed:    0.1s\n",
      "[Parallel(n_jobs=8)]: Done 184 tasks      | elapsed:    0.4s\n",
      "[Parallel(n_jobs=8)]: Done 400 out of 400 | elapsed:    0.9s finished\n",
      "[Parallel(n_jobs=8)]: Done  34 tasks      | elapsed:    0.1s\n",
      "[Parallel(n_jobs=8)]: Done 184 tasks      | elapsed:    0.4s\n",
      "[Parallel(n_jobs=8)]: Done 400 out of 400 | elapsed:    0.8s finished\n"
     ]
    },
    {
     "name": "stdout",
     "output_type": "stream",
     "text": [
      "             precision    recall  f1-score   support\n",
      "\n",
      "          0       0.99      0.98      0.98     48076\n",
      "          1       0.98      0.99      0.98     46215\n",
      "\n",
      "avg / total       0.98      0.98      0.98     94291\n",
      "\n",
      "\n",
      "\n",
      "done: DoS Hulk\n",
      "Saving Classification Report for : DoS Hulk\n",
      "Train dataset (377163, 4)\n",
      "Test dataset (94291, 4)\n"
     ]
    },
    {
     "name": "stderr",
     "output_type": "stream",
     "text": [
      "[Parallel(n_jobs=-1)]: Done  34 tasks      | elapsed:    1.6s\n",
      "[Parallel(n_jobs=-1)]: Done 184 tasks      | elapsed:    9.0s\n",
      "[Parallel(n_jobs=-1)]: Done 400 out of 400 | elapsed:   22.0s finished\n",
      "[Parallel(n_jobs=8)]: Done  34 tasks      | elapsed:    0.0s\n",
      "[Parallel(n_jobs=8)]: Done 184 tasks      | elapsed:    0.2s\n",
      "[Parallel(n_jobs=8)]: Done 400 out of 400 | elapsed:    0.4s finished\n",
      "[Parallel(n_jobs=8)]: Done  34 tasks      | elapsed:    0.0s\n",
      "[Parallel(n_jobs=8)]: Done 184 tasks      | elapsed:    0.2s\n",
      "[Parallel(n_jobs=8)]: Done 400 out of 400 | elapsed:    0.4s finished\n"
     ]
    },
    {
     "name": "stdout",
     "output_type": "stream",
     "text": [
      "             precision    recall  f1-score   support\n",
      "\n",
      "          0       1.00      1.00      1.00     94284\n",
      "          1       1.00      0.57      0.73         7\n",
      "\n",
      "avg / total       1.00      1.00      1.00     94291\n",
      "\n",
      "\n",
      "\n",
      "done: Infiltration\n",
      "Saving Classification Report for : Infiltration\n",
      "Train dataset (377163, 4)\n",
      "Test dataset (94291, 4)\n"
     ]
    },
    {
     "name": "stderr",
     "output_type": "stream",
     "text": [
      "[Parallel(n_jobs=-1)]: Done  34 tasks      | elapsed:    2.5s\n",
      "[Parallel(n_jobs=-1)]: Done 184 tasks      | elapsed:   13.0s\n",
      "[Parallel(n_jobs=-1)]: Done 400 out of 400 | elapsed:   25.1s finished\n",
      "[Parallel(n_jobs=8)]: Done  34 tasks      | elapsed:    0.0s\n",
      "[Parallel(n_jobs=8)]: Done 184 tasks      | elapsed:    0.2s\n",
      "[Parallel(n_jobs=8)]: Done 400 out of 400 | elapsed:    0.5s finished\n",
      "[Parallel(n_jobs=8)]: Done  34 tasks      | elapsed:    0.0s\n",
      "[Parallel(n_jobs=8)]: Done 184 tasks      | elapsed:    0.2s\n",
      "[Parallel(n_jobs=8)]: Done 400 out of 400 | elapsed:    0.4s finished\n"
     ]
    },
    {
     "name": "stdout",
     "output_type": "stream",
     "text": [
      "             precision    recall  f1-score   support\n",
      "\n",
      "          0       1.00      1.00      1.00     93898\n",
      "          1       0.98      0.99      0.99       393\n",
      "\n",
      "avg / total       1.00      1.00      1.00     94291\n",
      "\n",
      "\n",
      "\n",
      "done: Bot\n",
      "Saving Classification Report for : Bot\n",
      "Train dataset (377163, 4)\n",
      "Test dataset (94291, 4)\n"
     ]
    },
    {
     "name": "stderr",
     "output_type": "stream",
     "text": [
      "[Parallel(n_jobs=-1)]: Done  34 tasks      | elapsed:    3.6s\n",
      "[Parallel(n_jobs=-1)]: Done 184 tasks      | elapsed:   17.2s\n",
      "[Parallel(n_jobs=-1)]: Done 400 out of 400 | elapsed:   40.2s finished\n",
      "[Parallel(n_jobs=8)]: Done  34 tasks      | elapsed:    0.1s\n",
      "[Parallel(n_jobs=8)]: Done 184 tasks      | elapsed:    0.3s\n",
      "[Parallel(n_jobs=8)]: Done 400 out of 400 | elapsed:    0.6s finished\n",
      "[Parallel(n_jobs=8)]: Done  34 tasks      | elapsed:    0.1s\n",
      "[Parallel(n_jobs=8)]: Done 184 tasks      | elapsed:    0.3s\n",
      "[Parallel(n_jobs=8)]: Done 400 out of 400 | elapsed:    0.6s finished\n"
     ]
    },
    {
     "name": "stdout",
     "output_type": "stream",
     "text": [
      "             precision    recall  f1-score   support\n",
      "\n",
      "          0       1.00      1.00      1.00     85924\n",
      "          1       1.00      1.00      1.00      8367\n",
      "\n",
      "avg / total       1.00      1.00      1.00     94291\n",
      "\n",
      "\n",
      "\n",
      "done: DDoS\n",
      "Saving Classification Report for : DDoS\n",
      "Train dataset (377163, 3)\n",
      "Test dataset (94291, 3)\n"
     ]
    },
    {
     "name": "stderr",
     "output_type": "stream",
     "text": [
      "[Parallel(n_jobs=-1)]: Done  34 tasks      | elapsed:    2.3s\n",
      "[Parallel(n_jobs=-1)]: Done 184 tasks      | elapsed:   11.1s\n",
      "[Parallel(n_jobs=-1)]: Done 400 out of 400 | elapsed:   22.9s finished\n",
      "[Parallel(n_jobs=8)]: Done  34 tasks      | elapsed:    0.1s\n",
      "[Parallel(n_jobs=8)]: Done 184 tasks      | elapsed:    0.3s\n",
      "[Parallel(n_jobs=8)]: Done 400 out of 400 | elapsed:    0.6s finished\n",
      "[Parallel(n_jobs=8)]: Done  34 tasks      | elapsed:    0.1s\n",
      "[Parallel(n_jobs=8)]: Done 184 tasks      | elapsed:    0.2s\n",
      "[Parallel(n_jobs=8)]: Done 400 out of 400 | elapsed:    0.5s finished\n"
     ]
    },
    {
     "name": "stdout",
     "output_type": "stream",
     "text": [
      "             precision    recall  f1-score   support\n",
      "\n",
      "          0       1.00      1.00      1.00     62505\n",
      "          1       1.00      1.00      1.00     31786\n",
      "\n",
      "avg / total       1.00      1.00      1.00     94291\n",
      "\n",
      "\n",
      "\n",
      "done: PortScan\n",
      "Saving Classification Report for : PortScan\n",
      "Train dataset (377163, 4)\n",
      "Test dataset (94291, 4)\n"
     ]
    },
    {
     "name": "stderr",
     "output_type": "stream",
     "text": [
      "[Parallel(n_jobs=-1)]: Done  34 tasks      | elapsed:    3.1s\n",
      "[Parallel(n_jobs=-1)]: Done 184 tasks      | elapsed:   14.4s\n",
      "[Parallel(n_jobs=-1)]: Done 400 out of 400 | elapsed:   31.0s finished\n",
      "[Parallel(n_jobs=8)]: Done  34 tasks      | elapsed:    0.1s\n",
      "[Parallel(n_jobs=8)]: Done 184 tasks      | elapsed:    0.2s\n",
      "[Parallel(n_jobs=8)]: Done 400 out of 400 | elapsed:    0.5s finished\n",
      "[Parallel(n_jobs=8)]: Done  34 tasks      | elapsed:    0.0s\n",
      "[Parallel(n_jobs=8)]: Done 184 tasks      | elapsed:    0.2s\n",
      "[Parallel(n_jobs=8)]: Done 400 out of 400 | elapsed:    0.5s finished\n"
     ]
    },
    {
     "name": "stdout",
     "output_type": "stream",
     "text": [
      "             precision    recall  f1-score   support\n",
      "\n",
      "          0       1.00      1.00      1.00     92232\n",
      "          1       0.93      0.99      0.96      2059\n",
      "\n",
      "avg / total       1.00      1.00      1.00     94291\n",
      "\n",
      "\n",
      "\n",
      "done: DoS GoldenEye\n",
      "Saving Classification Report for : DoS GoldenEye\n"
     ]
    }
   ],
   "source": [
    "mainfunc(dd,X_train,y_train,X_test,y_test)"
   ]
  },
  {
   "cell_type": "code",
   "execution_count": 205,
   "metadata": {},
   "outputs": [],
   "source": [
    "def tsneplot(data,truelabel,predicted_label):\n",
    "        tsne = manifold.TSNE(init='random', random_state=0, perplexity=50,n_iter=1500,verbose=1)\n",
    "        vis_data_test = tsne.fit_transform(_df_test)\n",
    "        \n",
    "        %matplotlib inline\n",
    "        target_ids = range(0,2)\n",
    "        font_size = 10\n",
    "        plt.figure(figsize=(10,10))\n",
    "        \n",
    "        colors = 'r', 'b'\n",
    "        for i, c, label in zip(target_ids, colors, [_ for _ in target_ids]):\n",
    "            plt.scatter(vis_data_test[trueLabel==i, 0], vis_data_test[trueLabel==i, 1], c=c, label=label,s=1.5)\n",
    "        plt.title(\"True Label Binary-Attacks Distribution\", fontsize=font_size,loc=\"center\")\n",
    "        plt.xlabel(\"Dimension 1\", fontsize=font_size)\n",
    "        plt.ylabel(\"Dimension 2\", fontsize=font_size)\n",
    "        plt.legend(loc=1,fontsize =font_size,bbox_to_anchor=(1.05, 1,), borderaxespad=-3.3)\n",
    "        plt.savefig(val+\"_True.eps\",format='eps',dpi=1000)\n",
    "        \n",
    "        for i, c, label in zip(target_ids, colors, [_ for _ in target_ids]):\n",
    "            plt.scatter(vis_data_test[y_predict==i, 0], vis_data_test[y_predict==i, 1], c=c, label=label,s=1.5)\n",
    "        plt.title(\"Predicted Label Binary-Attacks Distribution\", fontsize=font_size,loc=\"center\")\n",
    "        plt.xlabel(\"Dimension 1\", fontsize=font_size)\n",
    "        plt.ylabel(\"Dimension 2\", fontsize=font_size)\n",
    "        plt.legend(loc=1,fontsize =font_size,bbox_to_anchor=(1.05, 1,), borderaxespad=-3.3)\n",
    "        plt.savefig(val+\"_Predicted.eps\",format='eps',dpi=1000)"
   ]
  },
  {
   "cell_type": "code",
   "execution_count": 10,
   "metadata": {},
   "outputs": [],
   "source": [
    "#Creating a classfication Report\n",
    "def pandas_classification_report(y_true, y_pred):\n",
    "    metrics_summary = precision_recall_fscore_support(\n",
    "            y_true=y_true, \n",
    "            y_pred=y_pred)\n",
    "\n",
    "    avg = list(precision_recall_fscore_support(\n",
    "            y_true=y_true, \n",
    "            y_pred=y_pred,\n",
    "            average='weighted'))\n",
    "\n",
    "    metrics_sum_index = ['precision', 'recall', 'f1-score', 'support']\n",
    "    class_report_df = pd.DataFrame(\n",
    "        list(metrics_summary),\n",
    "        index=metrics_sum_index)\n",
    "\n",
    "    support = class_report_df.loc['support']\n",
    "    total = support.sum() \n",
    "    avg[-1] = total\n",
    "\n",
    "    class_report_df['avg / total'] = avg\n",
    "\n",
    "    return class_report_df.T"
   ]
  },
  {
   "cell_type": "code",
   "execution_count": null,
   "metadata": {},
   "outputs": [],
   "source": [
    "final_df.Label.value_counts()"
   ]
  },
  {
   "cell_type": "code",
   "execution_count": 1030,
   "metadata": {
    "scrolled": true
   },
   "outputs": [
    {
     "data": {
      "text/plain": [
       "{'DoS slowloris': ['Flow Duration',\n",
       "  'Fwd IAT Min',\n",
       "  'Bwd IAT Mean',\n",
       "  'Fwd IAT Mean'],\n",
       " 'SSH-Patator': ['Init_Win_bytes_forward',\n",
       "  'Subflow Fwd Bytes',\n",
       "  'Total Length of Fwd Packets',\n",
       "  'ACK Flag Count'],\n",
       " 'DoS Slowhttptest': ['Flow Duration',\n",
       "  'Active Min',\n",
       "  'Active Mean',\n",
       "  'Flow IAT Std'],\n",
       " 'FTP-Patator': ['Init_Win_bytes_forward',\n",
       "  'Fwd PSH Flags',\n",
       "  'SYN Flag Count',\n",
       "  'Fwd Packets/s'],\n",
       " 'Heartbleed': ['Bwd Packet Length Std',\n",
       "  'Subflow Fwd Bytes',\n",
       "  'Flow Duration',\n",
       "  'Total Length of Fwd Packets'],\n",
       " 'Web-Attack': ['Init_Win_bytes_forward',\n",
       "  'Subflow Fwd Bytes',\n",
       "  'Init_Win_bytes_backward',\n",
       "  'Total Length of Fwd Packets'],\n",
       " 'DoS Hulk': ['Bwd Packet Length Std', 'Flow Duration', 'Flow IAT Std'],\n",
       " 'Infiltration': ['Subflow Fwd Bytes',\n",
       "  'Total Length of Fwd Packets',\n",
       "  'Flow Duration',\n",
       "  'Active Mean'],\n",
       " 'Bot': ['Subflow Fwd Bytes',\n",
       "  'Total Length of Fwd Packets',\n",
       "  'Fwd Packet Length Mean',\n",
       "  'Bwd Packets/s'],\n",
       " 'DDoS': ['Bwd Packet Length Std',\n",
       "  'Average Packet Size',\n",
       "  'Flow Duration',\n",
       "  'Flow IAT Std'],\n",
       " 'PortScan': ['Init_Win_bytes_forward', 'Bwd Packets/s', 'PSH Flag Count'],\n",
       " 'DoS GoldenEye': ['Bwd Packet Length Std',\n",
       "  'Flow IAT Min',\n",
       "  'Fwd IAT Min',\n",
       "  'Flow IAT Mean'],\n",
       " 'BENIGN': ['Bwd Packet Length Min',\n",
       "  'Subflow Fwd Bytes',\n",
       "  'Total Length of Fwd Packets',\n",
       "  'Fwd Packet Length Mean']}"
      ]
     },
     "execution_count": 1030,
     "metadata": {},
     "output_type": "execute_result"
    }
   ],
   "source": [
    "dd"
   ]
  },
  {
   "cell_type": "markdown",
   "metadata": {},
   "source": [
    "# Benign vs Attacks combined"
   ]
  },
  {
   "cell_type": "code",
   "execution_count": 867,
   "metadata": {},
   "outputs": [],
   "source": [
    "#create a dict n assign class name as key , value is the obj of model\n",
    "ba_df = pd.read_csv(\"benignattacks.csv\" ,encoding='ISO-8859-1')"
   ]
  },
  {
   "cell_type": "code",
   "execution_count": 868,
   "metadata": {},
   "outputs": [
    {
     "data": {
      "text/plain": [
       "array([1, 0])"
      ]
     },
     "execution_count": 868,
     "metadata": {},
     "output_type": "execute_result"
    }
   ],
   "source": [
    "ba_df.Label.unique()"
   ]
  },
  {
   "cell_type": "code",
   "execution_count": 822,
   "metadata": {},
   "outputs": [],
   "source": [
    "ba_y_Label = ba_df.pop(\"Label\") #Contains the label column"
   ]
  },
  {
   "cell_type": "code",
   "execution_count": 823,
   "metadata": {},
   "outputs": [],
   "source": [
    "# Test vs Train split\n",
    "ba_X_train, ba_X_test, ba_y_train, ba_y_test = train_test_split(ba_df,ba_y_Label, test_size=0.20, random_state=0,stratify=ba_y_Label)"
   ]
  },
  {
   "cell_type": "code",
   "execution_count": 698,
   "metadata": {},
   "outputs": [
    {
     "data": {
      "text/plain": [
       "array([0, 1])"
      ]
     },
     "execution_count": 698,
     "metadata": {},
     "output_type": "execute_result"
    }
   ],
   "source": [
    "np.unique(ba_y_train)"
   ]
  },
  {
   "cell_type": "code",
   "execution_count": 696,
   "metadata": {},
   "outputs": [
    {
     "data": {
      "text/plain": [
       "array([0, 1])"
      ]
     },
     "execution_count": 696,
     "metadata": {},
     "output_type": "execute_result"
    }
   ],
   "source": [
    "np.nunique(ba_y_test)"
   ]
  },
  {
   "cell_type": "code",
   "execution_count": 824,
   "metadata": {},
   "outputs": [],
   "source": [
    "# Converinting objects.\n",
    "ba_X_train.dtypes.eq(object)\n",
    "c=ba_X_train.columns[ba_X_train.dtypes.eq(object)]\n",
    "ba_X_train[c]=ba_X_train[c].apply(pd.to_numeric, errors='coerce', axis=0)\n",
    "#ba_X_train.shape\n",
    "\n",
    "# Converting objects to numeric \n",
    "ba_X_test.dtypes.eq(object)\n",
    "c=ba_X_test.columns[ba_X_test.dtypes.eq(object)]\n",
    "ba_X_test[c]=ba_X_test[c].apply(pd.to_numeric, errors='coerce', axis=0)\n",
    "#ba_X_test.shape"
   ]
  },
  {
   "cell_type": "code",
   "execution_count": 656,
   "metadata": {},
   "outputs": [],
   "source": [
    "# Saving values of X and Y\n",
    "ba_X_train.to_csv(\"ba_X_train.csv\",index=None)\n",
    "ba_X_test.to_csv(\"ba_X_test.csv\",index=None)"
   ]
  },
  {
   "cell_type": "code",
   "execution_count": 657,
   "metadata": {},
   "outputs": [],
   "source": [
    "ba_y_train.to_csv(\"ba_y_train.csv\",index=None)\n",
    "ba_y_test.to_csv(\"ba_y_test.csv\",index=None)"
   ]
  },
  {
   "cell_type": "code",
   "execution_count": 825,
   "metadata": {},
   "outputs": [],
   "source": [
    "clf_ba_rf = RandomForestClassifier(max_depth=50, random_state=0,n_estimators=250,n_jobs=-1,verbose=1)"
   ]
  },
  {
   "cell_type": "code",
   "execution_count": 826,
   "metadata": {},
   "outputs": [
    {
     "name": "stderr",
     "output_type": "stream",
     "text": [
      "[Parallel(n_jobs=-1)]: Done  34 tasks      | elapsed:   43.8s\n",
      "[Parallel(n_jobs=-1)]: Done 184 tasks      | elapsed:  3.4min\n",
      "[Parallel(n_jobs=-1)]: Done 250 out of 250 | elapsed:  4.5min finished\n"
     ]
    },
    {
     "data": {
      "text/plain": [
       "RandomForestClassifier(bootstrap=True, class_weight=None, criterion='gini',\n",
       "            max_depth=50, max_features='auto', max_leaf_nodes=None,\n",
       "            min_impurity_decrease=0.0, min_impurity_split=None,\n",
       "            min_samples_leaf=1, min_samples_split=2,\n",
       "            min_weight_fraction_leaf=0.0, n_estimators=250, n_jobs=-1,\n",
       "            oob_score=False, random_state=0, verbose=1, warm_start=False)"
      ]
     },
     "execution_count": 826,
     "metadata": {},
     "output_type": "execute_result"
    }
   ],
   "source": [
    "clf_ba_rf.fit(ba_X_train,ba_y_train)"
   ]
  },
  {
   "cell_type": "code",
   "execution_count": 827,
   "metadata": {},
   "outputs": [],
   "source": [
    "with open(\"BENIGN.bin\",\"wb\") as fout:\n",
    "            pickle.dump(clf,fout,pickle.DEFAULT_PROTOCOL)"
   ]
  },
  {
   "cell_type": "code",
   "execution_count": 894,
   "metadata": {},
   "outputs": [],
   "source": [
    "cols_n = ['Bwd Packet Length Min', 'Subflow Fwd Bytes',\n",
    "       'Total Length of Fwd Packets', 'Fwd Packet Length Mean']"
   ]
  },
  {
   "cell_type": "code",
   "execution_count": 895,
   "metadata": {},
   "outputs": [
    {
     "name": "stderr",
     "output_type": "stream",
     "text": [
      "[Parallel(n_jobs=8)]: Done  34 tasks      | elapsed:    0.1s\n",
      "[Parallel(n_jobs=8)]: Done 184 tasks      | elapsed:    0.5s\n",
      "[Parallel(n_jobs=8)]: Done 250 out of 250 | elapsed:    0.7s finished\n"
     ]
    }
   ],
   "source": [
    "y_predict_rf = clf_ba_rf.predict(X_test[cols_n])"
   ]
  },
  {
   "cell_type": "code",
   "execution_count": 896,
   "metadata": {
    "collapsed": true
   },
   "outputs": [
    {
     "ename": "ValueError",
     "evalue": "Mix of label input types (string and number)",
     "output_type": "error",
     "traceback": [
      "\u001b[0;31m---------------------------------------------------------------------------\u001b[0m",
      "\u001b[0;31mValueError\u001b[0m                                Traceback (most recent call last)",
      "\u001b[0;32m<ipython-input-896-c647078a1966>\u001b[0m in \u001b[0;36m<module>\u001b[0;34m()\u001b[0m\n\u001b[0;32m----> 1\u001b[0;31m \u001b[0mprint\u001b[0m\u001b[0;34m(\u001b[0m\u001b[0mmetrics\u001b[0m\u001b[0;34m.\u001b[0m\u001b[0mclassification_report\u001b[0m\u001b[0;34m(\u001b[0m\u001b[0my_test\u001b[0m\u001b[0;34m,\u001b[0m\u001b[0my_predict_rf\u001b[0m\u001b[0;34m)\u001b[0m\u001b[0;34m)\u001b[0m\u001b[0;34m\u001b[0m\u001b[0m\n\u001b[0m",
      "\u001b[0;32m/Library/Frameworks/Python.framework/Versions/3.6/lib/python3.6/site-packages/sklearn/metrics/classification.py\u001b[0m in \u001b[0;36mclassification_report\u001b[0;34m(y_true, y_pred, labels, target_names, sample_weight, digits)\u001b[0m\n\u001b[1;32m   1419\u001b[0m \u001b[0;34m\u001b[0m\u001b[0m\n\u001b[1;32m   1420\u001b[0m     \u001b[0;32mif\u001b[0m \u001b[0mlabels\u001b[0m \u001b[0;32mis\u001b[0m \u001b[0;32mNone\u001b[0m\u001b[0;34m:\u001b[0m\u001b[0;34m\u001b[0m\u001b[0m\n\u001b[0;32m-> 1421\u001b[0;31m         \u001b[0mlabels\u001b[0m \u001b[0;34m=\u001b[0m \u001b[0munique_labels\u001b[0m\u001b[0;34m(\u001b[0m\u001b[0my_true\u001b[0m\u001b[0;34m,\u001b[0m \u001b[0my_pred\u001b[0m\u001b[0;34m)\u001b[0m\u001b[0;34m\u001b[0m\u001b[0m\n\u001b[0m\u001b[1;32m   1422\u001b[0m     \u001b[0;32melse\u001b[0m\u001b[0;34m:\u001b[0m\u001b[0;34m\u001b[0m\u001b[0m\n\u001b[1;32m   1423\u001b[0m         \u001b[0mlabels\u001b[0m \u001b[0;34m=\u001b[0m \u001b[0mnp\u001b[0m\u001b[0;34m.\u001b[0m\u001b[0masarray\u001b[0m\u001b[0;34m(\u001b[0m\u001b[0mlabels\u001b[0m\u001b[0;34m)\u001b[0m\u001b[0;34m\u001b[0m\u001b[0m\n",
      "\u001b[0;32m/Library/Frameworks/Python.framework/Versions/3.6/lib/python3.6/site-packages/sklearn/utils/multiclass.py\u001b[0m in \u001b[0;36munique_labels\u001b[0;34m(*ys)\u001b[0m\n\u001b[1;32m    101\u001b[0m     \u001b[0;31m# Check that we don't mix string type with number type\u001b[0m\u001b[0;34m\u001b[0m\u001b[0;34m\u001b[0m\u001b[0m\n\u001b[1;32m    102\u001b[0m     \u001b[0;32mif\u001b[0m \u001b[0;34m(\u001b[0m\u001b[0mlen\u001b[0m\u001b[0;34m(\u001b[0m\u001b[0mset\u001b[0m\u001b[0;34m(\u001b[0m\u001b[0misinstance\u001b[0m\u001b[0;34m(\u001b[0m\u001b[0mlabel\u001b[0m\u001b[0;34m,\u001b[0m \u001b[0mstring_types\u001b[0m\u001b[0;34m)\u001b[0m \u001b[0;32mfor\u001b[0m \u001b[0mlabel\u001b[0m \u001b[0;32min\u001b[0m \u001b[0mys_labels\u001b[0m\u001b[0;34m)\u001b[0m\u001b[0;34m)\u001b[0m \u001b[0;34m>\u001b[0m \u001b[0;36m1\u001b[0m\u001b[0;34m)\u001b[0m\u001b[0;34m:\u001b[0m\u001b[0;34m\u001b[0m\u001b[0m\n\u001b[0;32m--> 103\u001b[0;31m         \u001b[0;32mraise\u001b[0m \u001b[0mValueError\u001b[0m\u001b[0;34m(\u001b[0m\u001b[0;34m\"Mix of label input types (string and number)\"\u001b[0m\u001b[0;34m)\u001b[0m\u001b[0;34m\u001b[0m\u001b[0m\n\u001b[0m\u001b[1;32m    104\u001b[0m \u001b[0;34m\u001b[0m\u001b[0m\n\u001b[1;32m    105\u001b[0m     \u001b[0;32mreturn\u001b[0m \u001b[0mnp\u001b[0m\u001b[0;34m.\u001b[0m\u001b[0marray\u001b[0m\u001b[0;34m(\u001b[0m\u001b[0msorted\u001b[0m\u001b[0;34m(\u001b[0m\u001b[0mys_labels\u001b[0m\u001b[0;34m)\u001b[0m\u001b[0;34m)\u001b[0m\u001b[0;34m\u001b[0m\u001b[0m\n",
      "\u001b[0;31mValueError\u001b[0m: Mix of label input types (string and number)"
     ]
    }
   ],
   "source": [
    "print(metrics.classification_report(y_test,y_predict_rf))"
   ]
  },
  {
   "cell_type": "code",
   "execution_count": 716,
   "metadata": {},
   "outputs": [
    {
     "name": "stdout",
     "output_type": "stream",
     "text": [
      "0.08327401443789532\n"
     ]
    },
    {
     "name": "stderr",
     "output_type": "stream",
     "text": [
      "/Library/Frameworks/Python.framework/Versions/3.6/lib/python3.6/site-packages/sklearn/metrics/classification.py:1135: UndefinedMetricWarning: Precision is ill-defined and being set to 0.0 in labels with no predicted samples.\n",
      "  'precision', 'predicted', average, warn_for)\n"
     ]
    }
   ],
   "source": [
    "from sklearn.metrics import accuracy_score\n",
    "print(metrics.precision_score(ba_y_test,y_predict_rf,average=\"macro\"))"
   ]
  },
  {
   "cell_type": "code",
   "execution_count": 711,
   "metadata": {},
   "outputs": [
    {
     "name": "stdout",
     "output_type": "stream",
     "text": [
      "0.5\n"
     ]
    }
   ],
   "source": [
    "print(metrics.recall_score(ba_y_test,y_predict_ba,average=\"macro\"))"
   ]
  },
  {
   "cell_type": "code",
   "execution_count": 688,
   "metadata": {},
   "outputs": [
    {
     "name": "stdout",
     "output_type": "stream",
     "text": [
      "0.14276997153412876\n"
     ]
    },
    {
     "name": "stderr",
     "output_type": "stream",
     "text": [
      "/Library/Frameworks/Python.framework/Versions/3.6/lib/python3.6/site-packages/sklearn/metrics/classification.py:1135: UndefinedMetricWarning: F-score is ill-defined and being set to 0.0 in labels with no predicted samples.\n",
      "  'precision', 'predicted', average, warn_for)\n"
     ]
    }
   ],
   "source": [
    "print(metrics.f1_score(ba_y_test,y_predict_ba,average=\"macro\"))"
   ]
  },
  {
   "cell_type": "code",
   "execution_count": 661,
   "metadata": {},
   "outputs": [],
   "source": [
    "with open(\"benginvsattacks.bin\",\"wb\") as fout:\n",
    "            pickle.dump(clf,fout,pickle.DEFAULT_PROTOCOL)"
   ]
  },
  {
   "cell_type": "code",
   "execution_count": 667,
   "metadata": {},
   "outputs": [],
   "source": [
    "dd = {'benginvsattacks':['Bwd Packet Length Min', 'Subflow Fwd Bytes',\n",
    "       'Total Length of Fwd Packets', 'Fwd Packet Length Mean']}"
   ]
  },
  {
   "cell_type": "code",
   "execution_count": 857,
   "metadata": {},
   "outputs": [],
   "source": [
    "dd['BENIGN'] = ['Bwd Packet Length Min', 'Subflow Fwd Bytes',\n",
    "       'Total Length of Fwd Packets', 'Fwd Packet Length Mean']"
   ]
  },
  {
   "cell_type": "code",
   "execution_count": 858,
   "metadata": {},
   "outputs": [
    {
     "data": {
      "text/plain": [
       "{'DoS slowloris': ['Flow Duration',\n",
       "  'Fwd IAT Min',\n",
       "  'Bwd IAT Mean',\n",
       "  'Fwd IAT Mean'],\n",
       " 'SSH-Patator': ['Init_Win_bytes_forward',\n",
       "  'Subflow Fwd Bytes',\n",
       "  'Total Length of Fwd Packets',\n",
       "  'ACK Flag Count'],\n",
       " 'DoS Slowhttptest': ['Flow Duration',\n",
       "  'Active Min',\n",
       "  'Active Mean',\n",
       "  'Flow IAT Std'],\n",
       " 'FTP-Patator': ['Init_Win_bytes_forward',\n",
       "  'Fwd PSH Flags',\n",
       "  'SYN Flag Count',\n",
       "  'Fwd Packets/s'],\n",
       " 'Heartbleed': ['Bwd Packet Length Std',\n",
       "  'Subflow Fwd Bytes',\n",
       "  'Flow Duration',\n",
       "  'Total Length of Fwd Packets'],\n",
       " 'Web-Attack': ['Init_Win_bytes_forward',\n",
       "  'Subflow Fwd Bytes',\n",
       "  'Init_Win_bytes_backward',\n",
       "  'Total Length of Fwd Packets'],\n",
       " 'DoS Hulk': ['Bwd Packet Length Std', 'Flow Duration', 'Flow IAT Std'],\n",
       " 'Infiltration': ['Subflow Fwd Bytes',\n",
       "  'Total Length of Fwd Packets',\n",
       "  'Flow Duration',\n",
       "  'Active Mean'],\n",
       " 'Bot': ['Subflow Fwd Bytes',\n",
       "  'Total Length of Fwd Packets',\n",
       "  'Fwd Packet Length Mean',\n",
       "  'Bwd Packets/s'],\n",
       " 'DDoS': ['Bwd Packet Length Std',\n",
       "  'Average Packet Size',\n",
       "  'Flow Duration',\n",
       "  'Flow IAT Std'],\n",
       " 'PortScan': ['Init_Win_bytes_forward', 'Bwd Packets/s', 'PSH Flag Count'],\n",
       " 'DoS GoldenEye': ['Bwd Packet Length Std',\n",
       "  'Flow IAT Min',\n",
       "  'Fwd IAT Min',\n",
       "  'Flow IAT Mean'],\n",
       " 'BENIGN': ['Bwd Packet Length Min',\n",
       "  'Subflow Fwd Bytes',\n",
       "  'Total Length of Fwd Packets',\n",
       "  'Fwd Packet Length Mean']}"
      ]
     },
     "execution_count": 858,
     "metadata": {},
     "output_type": "execute_result"
    }
   ],
   "source": [
    "# Save this Dict\n",
    "dd"
   ]
  },
  {
   "cell_type": "code",
   "execution_count": 810,
   "metadata": {},
   "outputs": [
    {
     "data": {
      "text/plain": [
       "Index(['Bwd Packets/s', 'Init_Win_bytes_backward', 'ACK Flag Count',\n",
       "       'Total Length of Fwd Packets', 'Subflow Fwd Bytes',\n",
       "       'Fwd Packet Length Mean', 'Flow IAT Min', 'Bwd IAT Mean',\n",
       "       'Flow Duration', 'Flow IAT Std', 'Active Mean', 'Fwd PSH Flags',\n",
       "       'Flow IAT Mean', 'Active Min', 'Bwd Packet Length Std',\n",
       "       'Init_Win_bytes_forward', 'Average Packet Size', 'Fwd IAT Min',\n",
       "       'SYN Flag Count', 'PSH Flag Count', 'Fwd IAT Mean', 'Fwd Packets/s'],\n",
       "      dtype='object')"
      ]
     },
     "execution_count": 810,
     "metadata": {},
     "output_type": "execute_result"
    }
   ],
   "source": [
    "attacks_f.columns"
   ]
  },
  {
   "cell_type": "markdown",
   "metadata": {},
   "source": [
    "# Global Test "
   ]
  },
  {
   "cell_type": "code",
   "execution_count": 902,
   "metadata": {},
   "outputs": [],
   "source": [
    "global_test = pd.read_csv(\"Data-Final/X_test_all_final.csv\" ,encoding='ISO-8859-1')"
   ]
  },
  {
   "cell_type": "code",
   "execution_count": 935,
   "metadata": {},
   "outputs": [],
   "source": [
    "refined_global_X_test = pd.read_csv(\"/Users/akumarmandapati/git/AIC/Data-Final/global_X_test.csv\",encoding='ISO-8859-1')"
   ]
  },
  {
   "cell_type": "code",
   "execution_count": 1004,
   "metadata": {},
   "outputs": [
    {
     "data": {
      "text/plain": [
       "(283075, 23)"
      ]
     },
     "execution_count": 1004,
     "metadata": {},
     "output_type": "execute_result"
    }
   ],
   "source": [
    "refined_global_X_test.shape"
   ]
  },
  {
   "cell_type": "code",
   "execution_count": 998,
   "metadata": {},
   "outputs": [],
   "source": [
    "refined_global_X_train = pd.read_csv(\"/Users/akumarmandapati/git/AIC/Data-Final/global_X_train.csv\",encoding='ISO-8859-1')"
   ]
  },
  {
   "cell_type": "code",
   "execution_count": 1005,
   "metadata": {},
   "outputs": [
    {
     "data": {
      "text/plain": [
       "(2547668, 23)"
      ]
     },
     "execution_count": 1005,
     "metadata": {},
     "output_type": "execute_result"
    }
   ],
   "source": [
    "refined_global_X_train.shape"
   ]
  },
  {
   "cell_type": "code",
   "execution_count": 1001,
   "metadata": {},
   "outputs": [],
   "source": [
    "refined_global_y_test = pd.Series(pd.read_csv(\"/Users/akumarmandapati/git/AIC/Data-Final/global_y_test_1.csv\",encoding='ISO-8859-1'))"
   ]
  },
  {
   "cell_type": "code",
   "execution_count": 1006,
   "metadata": {},
   "outputs": [
    {
     "data": {
      "text/plain": [
       "(283075,)"
      ]
     },
     "execution_count": 1006,
     "metadata": {},
     "output_type": "execute_result"
    }
   ],
   "source": [
    "refined_global_y_test.shape"
   ]
  },
  {
   "cell_type": "code",
   "execution_count": 1002,
   "metadata": {},
   "outputs": [],
   "source": [
    "refined_global_y_train = pd.Series(pd.read_csv(\"/Users/akumarmandapati/git/AIC/Data-Final/global_y_train.csv\",encoding='ISO-8859-1'))"
   ]
  },
  {
   "cell_type": "code",
   "execution_count": 1007,
   "metadata": {},
   "outputs": [
    {
     "data": {
      "text/plain": [
       "(2547667,)"
      ]
     },
     "execution_count": 1007,
     "metadata": {},
     "output_type": "execute_result"
    }
   ],
   "source": [
    "refined_global_y_train.shape"
   ]
  },
  {
   "cell_type": "code",
   "execution_count": null,
   "metadata": {},
   "outputs": [],
   "source": [
    "pd.Series(pd.read_csv)"
   ]
  },
  {
   "cell_type": "code",
   "execution_count": 938,
   "metadata": {},
   "outputs": [
    {
     "data": {
      "text/plain": [
       "(283074, 1)"
      ]
     },
     "execution_count": 938,
     "metadata": {},
     "output_type": "execute_result"
    }
   ],
   "source": [
    "refined_global_y_test.shape"
   ]
  },
  {
   "cell_type": "code",
   "execution_count": 963,
   "metadata": {},
   "outputs": [
    {
     "data": {
      "text/plain": [
       "(283075, 1)"
      ]
     },
     "execution_count": 963,
     "metadata": {},
     "output_type": "execute_result"
    }
   ],
   "source": [
    "refined_global_y_test_1.shape"
   ]
  },
  {
   "cell_type": "code",
   "execution_count": 952,
   "metadata": {
    "collapsed": true
   },
   "outputs": [
    {
     "data": {
      "text/plain": [
       "BENIGN              235928\n",
       "DoS Hulk             23107\n",
       "PortScan             15893\n",
       "DDoS                  4183\n",
       "DoS GoldenEye         1029\n",
       "FTP-Patator            794\n",
       "SSH-Patator            590\n",
       "DoS slowloris          580\n",
       "DoS Slowhttptest       550\n",
       "Web-Attack             218\n",
       "Bot                    197\n",
       "Infiltration             4\n",
       "Heartbleed               1\n",
       "Name: BENIGN, dtype: int64"
      ]
     },
     "execution_count": 952,
     "metadata": {},
     "output_type": "execute_result"
    }
   ],
   "source": [
    "refined_global_y_test.BENIGN.value_counts()"
   ]
  },
  {
   "cell_type": "code",
   "execution_count": 953,
   "metadata": {},
   "outputs": [
    {
     "data": {
      "text/plain": [
       "BENIGN              175963\n",
       "DoS Hulk             39508\n",
       "PortScan             22291\n",
       "DDoS                 14436\n",
       "Web-Attack            8670\n",
       "Bot                   7852\n",
       "FTP-Patator           5227\n",
       "DoS GoldenEye         4705\n",
       "DoS Slowhttptest      1989\n",
       "DoS slowloris         1475\n",
       "SSH-Patator            950\n",
       "Infiltration             8\n",
       "Heartbleed               1\n",
       "Name: Label, dtype: int64"
      ]
     },
     "execution_count": 953,
     "metadata": {},
     "output_type": "execute_result"
    }
   ],
   "source": [
    "df_prob.Label.value_counts()"
   ]
  },
  {
   "cell_type": "code",
   "execution_count": 959,
   "metadata": {},
   "outputs": [
    {
     "data": {
      "text/plain": [
       "(283075, 14)"
      ]
     },
     "execution_count": 959,
     "metadata": {},
     "output_type": "execute_result"
    }
   ],
   "source": [
    "df_prob.shape"
   ]
  },
  {
   "cell_type": "code",
   "execution_count": 960,
   "metadata": {},
   "outputs": [
    {
     "data": {
      "text/plain": [
       "BENIGN              235928\n",
       "DoS Hulk             23107\n",
       "PortScan             15893\n",
       "DDoS                  4183\n",
       "DoS GoldenEye         1029\n",
       "FTP-Patator            794\n",
       "SSH-Patator            590\n",
       "DoS slowloris          580\n",
       "DoS Slowhttptest       550\n",
       "Web-Attack             218\n",
       "Bot                    197\n",
       "Infiltration             4\n",
       "Heartbleed               1\n",
       "Name: BENIGN, dtype: int64"
      ]
     },
     "execution_count": 960,
     "metadata": {},
     "output_type": "execute_result"
    }
   ],
   "source": [
    "refined_global_y_test.BENIGN.value_counts()"
   ]
  },
  {
   "cell_type": "code",
   "execution_count": 957,
   "metadata": {
    "collapsed": true
   },
   "outputs": [
    {
     "name": "stdout",
     "output_type": "stream",
     "text": [
      "283074\n"
     ]
    }
   ],
   "source": [
    "a = 235928+23107+15893+4183+1029+794+590+580+550+218+197+4+1 \n",
    "print (a)"
   ]
  },
  {
   "cell_type": "code",
   "execution_count": 936,
   "metadata": {},
   "outputs": [
    {
     "data": {
      "text/plain": [
       "(283075, 23)"
      ]
     },
     "execution_count": 936,
     "metadata": {},
     "output_type": "execute_result"
    }
   ],
   "source": [
    "refined_global_X_test.shape"
   ]
  },
  {
   "cell_type": "code",
   "execution_count": 974,
   "metadata": {},
   "outputs": [
    {
     "data": {
      "text/plain": [
       "['Bwd Packet Length Std',\n",
       " 'Subflow Fwd Bytes',\n",
       " 'Flow Duration',\n",
       " 'Total Length of Fwd Packets']"
      ]
     },
     "execution_count": 974,
     "metadata": {},
     "output_type": "execute_result"
    }
   ],
   "source": [
    "global_test.head()\n",
    "\n",
    "dd[\"Heartbleed\"]"
   ]
  },
  {
   "cell_type": "code",
   "execution_count": 25,
   "metadata": {},
   "outputs": [],
   "source": [
    "# Make changes to function to take in Benign model as well -> push some records of Benign to dataset\n",
    "#Probability per model\n",
    "def loadmodel():\n",
    "    probability_dict = {}\n",
    "    for val in  list(dd.keys()):\n",
    "        cols = dd[val]\n",
    "        _df_test = X_test[cols]\n",
    "        #print(val)\n",
    "        #Load the model from disk\n",
    "        loaded_model = pickle.load(open(val+'.bin', 'rb'))\n",
    "        a = loaded_model.predict_proba(_df_test)\n",
    "        #print(a)\n",
    "        \n",
    "        b = a[:,1]\n",
    "        #d = a[:,0]\n",
    "        c = b.flatten()\n",
    "        print(val)\n",
    "        probability_dict[val]=c\n",
    "        \n",
    "    with open(\"probability_dict.p\",\"wb\") as fout:\n",
    "            pickle.dump(probability_dict,fout,pickle.DEFAULT_PROTOCOL)"
   ]
  },
  {
   "cell_type": "code",
   "execution_count": 26,
   "metadata": {},
   "outputs": [
    {
     "name": "stderr",
     "output_type": "stream",
     "text": [
      "[Parallel(n_jobs=8)]: Done  34 tasks      | elapsed:    0.1s\n",
      "[Parallel(n_jobs=8)]: Done 184 tasks      | elapsed:    0.3s\n",
      "[Parallel(n_jobs=8)]: Done 400 out of 400 | elapsed:    0.6s finished\n",
      "[Parallel(n_jobs=8)]: Done  34 tasks      | elapsed:    0.0s\n"
     ]
    },
    {
     "name": "stdout",
     "output_type": "stream",
     "text": [
      "DoS slowloris\n"
     ]
    },
    {
     "name": "stderr",
     "output_type": "stream",
     "text": [
      "[Parallel(n_jobs=8)]: Done 184 tasks      | elapsed:    0.2s\n",
      "[Parallel(n_jobs=8)]: Done 400 out of 400 | elapsed:    0.5s finished\n"
     ]
    },
    {
     "name": "stdout",
     "output_type": "stream",
     "text": [
      "SSH-Patator\n"
     ]
    },
    {
     "name": "stderr",
     "output_type": "stream",
     "text": [
      "[Parallel(n_jobs=8)]: Done  34 tasks      | elapsed:    0.1s\n",
      "[Parallel(n_jobs=8)]: Done 184 tasks      | elapsed:    0.3s\n",
      "[Parallel(n_jobs=8)]: Done 400 out of 400 | elapsed:    0.6s finished\n",
      "[Parallel(n_jobs=8)]: Done  34 tasks      | elapsed:    0.0s\n"
     ]
    },
    {
     "name": "stdout",
     "output_type": "stream",
     "text": [
      "DoS Slowhttptest\n"
     ]
    },
    {
     "name": "stderr",
     "output_type": "stream",
     "text": [
      "[Parallel(n_jobs=8)]: Done 184 tasks      | elapsed:    0.2s\n",
      "[Parallel(n_jobs=8)]: Done 400 out of 400 | elapsed:    0.4s finished\n",
      "[Parallel(n_jobs=8)]: Done  34 tasks      | elapsed:    0.0s\n"
     ]
    },
    {
     "name": "stdout",
     "output_type": "stream",
     "text": [
      "FTP-Patator\n"
     ]
    },
    {
     "name": "stderr",
     "output_type": "stream",
     "text": [
      "[Parallel(n_jobs=8)]: Done 184 tasks      | elapsed:    0.1s\n",
      "[Parallel(n_jobs=8)]: Done 400 out of 400 | elapsed:    0.3s finished\n"
     ]
    },
    {
     "name": "stdout",
     "output_type": "stream",
     "text": [
      "Heartbleed\n"
     ]
    },
    {
     "name": "stderr",
     "output_type": "stream",
     "text": [
      "[Parallel(n_jobs=8)]: Done  34 tasks      | elapsed:    0.0s\n",
      "[Parallel(n_jobs=8)]: Done 184 tasks      | elapsed:    0.2s\n",
      "[Parallel(n_jobs=8)]: Done 400 out of 400 | elapsed:    0.4s finished\n"
     ]
    },
    {
     "name": "stdout",
     "output_type": "stream",
     "text": [
      "Web-Attack\n"
     ]
    },
    {
     "name": "stderr",
     "output_type": "stream",
     "text": [
      "[Parallel(n_jobs=8)]: Done  34 tasks      | elapsed:    0.1s\n",
      "[Parallel(n_jobs=8)]: Done 184 tasks      | elapsed:    0.4s\n",
      "[Parallel(n_jobs=8)]: Done 400 out of 400 | elapsed:    0.8s finished\n",
      "[Parallel(n_jobs=8)]: Done  34 tasks      | elapsed:    0.0s\n"
     ]
    },
    {
     "name": "stdout",
     "output_type": "stream",
     "text": [
      "DoS Hulk\n"
     ]
    },
    {
     "name": "stderr",
     "output_type": "stream",
     "text": [
      "[Parallel(n_jobs=8)]: Done 184 tasks      | elapsed:    0.2s\n",
      "[Parallel(n_jobs=8)]: Done 400 out of 400 | elapsed:    0.4s finished\n",
      "[Parallel(n_jobs=8)]: Done  34 tasks      | elapsed:    0.0s\n"
     ]
    },
    {
     "name": "stdout",
     "output_type": "stream",
     "text": [
      "Infiltration\n"
     ]
    },
    {
     "name": "stderr",
     "output_type": "stream",
     "text": [
      "[Parallel(n_jobs=8)]: Done 184 tasks      | elapsed:    0.2s\n",
      "[Parallel(n_jobs=8)]: Done 400 out of 400 | elapsed:    0.5s finished\n"
     ]
    },
    {
     "name": "stdout",
     "output_type": "stream",
     "text": [
      "Bot\n"
     ]
    },
    {
     "name": "stderr",
     "output_type": "stream",
     "text": [
      "[Parallel(n_jobs=8)]: Done  34 tasks      | elapsed:    0.1s\n",
      "[Parallel(n_jobs=8)]: Done 184 tasks      | elapsed:    0.3s\n",
      "[Parallel(n_jobs=8)]: Done 400 out of 400 | elapsed:    0.6s finished\n"
     ]
    },
    {
     "name": "stdout",
     "output_type": "stream",
     "text": [
      "DDoS\n"
     ]
    },
    {
     "name": "stderr",
     "output_type": "stream",
     "text": [
      "[Parallel(n_jobs=8)]: Done  34 tasks      | elapsed:    0.0s\n",
      "[Parallel(n_jobs=8)]: Done 184 tasks      | elapsed:    0.3s\n",
      "[Parallel(n_jobs=8)]: Done 400 out of 400 | elapsed:    0.6s finished\n",
      "[Parallel(n_jobs=8)]: Done  34 tasks      | elapsed:    0.0s\n"
     ]
    },
    {
     "name": "stdout",
     "output_type": "stream",
     "text": [
      "PortScan\n"
     ]
    },
    {
     "name": "stderr",
     "output_type": "stream",
     "text": [
      "[Parallel(n_jobs=8)]: Done 184 tasks      | elapsed:    0.2s\n"
     ]
    },
    {
     "name": "stdout",
     "output_type": "stream",
     "text": [
      "DoS GoldenEye\n"
     ]
    },
    {
     "name": "stderr",
     "output_type": "stream",
     "text": [
      "[Parallel(n_jobs=8)]: Done 400 out of 400 | elapsed:    0.5s finished\n"
     ]
    }
   ],
   "source": [
    "loadmodel()"
   ]
  },
  {
   "cell_type": "code",
   "execution_count": 27,
   "metadata": {},
   "outputs": [],
   "source": [
    "# Dataframe containing the probabilities of all 12 models\n",
    "with open(\"probability_dict.p\",\"rb\") as fin:\n",
    "    prob_dict = pickle.load(fin)"
   ]
  },
  {
   "cell_type": "code",
   "execution_count": 28,
   "metadata": {},
   "outputs": [],
   "source": [
    "#Creating a dataframe of the probabilities\n",
    "df_prob = pd.DataFrame(prob_dict)"
   ]
  },
  {
   "cell_type": "code",
   "execution_count": 29,
   "metadata": {},
   "outputs": [
    {
     "data": {
      "text/html": [
       "<div>\n",
       "<style scoped>\n",
       "    .dataframe tbody tr th:only-of-type {\n",
       "        vertical-align: middle;\n",
       "    }\n",
       "\n",
       "    .dataframe tbody tr th {\n",
       "        vertical-align: top;\n",
       "    }\n",
       "\n",
       "    .dataframe thead th {\n",
       "        text-align: right;\n",
       "    }\n",
       "</style>\n",
       "<table border=\"1\" class=\"dataframe\">\n",
       "  <thead>\n",
       "    <tr style=\"text-align: right;\">\n",
       "      <th></th>\n",
       "      <th>Bot</th>\n",
       "      <th>DDoS</th>\n",
       "      <th>DoS GoldenEye</th>\n",
       "      <th>DoS Hulk</th>\n",
       "      <th>DoS Slowhttptest</th>\n",
       "      <th>DoS slowloris</th>\n",
       "      <th>FTP-Patator</th>\n",
       "      <th>Heartbleed</th>\n",
       "      <th>Infiltration</th>\n",
       "      <th>PortScan</th>\n",
       "      <th>SSH-Patator</th>\n",
       "      <th>Web-Attack</th>\n",
       "    </tr>\n",
       "  </thead>\n",
       "  <tbody>\n",
       "    <tr>\n",
       "      <th>0</th>\n",
       "      <td>0.0</td>\n",
       "      <td>0.0</td>\n",
       "      <td>0.000000</td>\n",
       "      <td>0.999998</td>\n",
       "      <td>0.0</td>\n",
       "      <td>0.00000</td>\n",
       "      <td>0.0</td>\n",
       "      <td>0.0</td>\n",
       "      <td>0.0</td>\n",
       "      <td>0.000012</td>\n",
       "      <td>0.0</td>\n",
       "      <td>0.0</td>\n",
       "    </tr>\n",
       "    <tr>\n",
       "      <th>1</th>\n",
       "      <td>0.0</td>\n",
       "      <td>0.0</td>\n",
       "      <td>0.000245</td>\n",
       "      <td>0.999033</td>\n",
       "      <td>0.0</td>\n",
       "      <td>0.00000</td>\n",
       "      <td>0.0</td>\n",
       "      <td>0.0</td>\n",
       "      <td>0.0</td>\n",
       "      <td>0.000021</td>\n",
       "      <td>0.0</td>\n",
       "      <td>0.0</td>\n",
       "    </tr>\n",
       "    <tr>\n",
       "      <th>2</th>\n",
       "      <td>0.0</td>\n",
       "      <td>0.0</td>\n",
       "      <td>0.000000</td>\n",
       "      <td>0.001265</td>\n",
       "      <td>0.0</td>\n",
       "      <td>0.26975</td>\n",
       "      <td>0.0</td>\n",
       "      <td>0.0</td>\n",
       "      <td>0.0</td>\n",
       "      <td>0.999998</td>\n",
       "      <td>0.0</td>\n",
       "      <td>0.0</td>\n",
       "    </tr>\n",
       "    <tr>\n",
       "      <th>3</th>\n",
       "      <td>0.0</td>\n",
       "      <td>1.0</td>\n",
       "      <td>0.000105</td>\n",
       "      <td>0.000215</td>\n",
       "      <td>0.0</td>\n",
       "      <td>0.00000</td>\n",
       "      <td>0.0</td>\n",
       "      <td>0.0</td>\n",
       "      <td>0.0</td>\n",
       "      <td>0.000000</td>\n",
       "      <td>0.0</td>\n",
       "      <td>0.0</td>\n",
       "    </tr>\n",
       "    <tr>\n",
       "      <th>4</th>\n",
       "      <td>0.0</td>\n",
       "      <td>0.0</td>\n",
       "      <td>0.000000</td>\n",
       "      <td>0.992948</td>\n",
       "      <td>0.0</td>\n",
       "      <td>0.00000</td>\n",
       "      <td>0.0</td>\n",
       "      <td>0.0</td>\n",
       "      <td>0.0</td>\n",
       "      <td>0.000021</td>\n",
       "      <td>0.0</td>\n",
       "      <td>0.0</td>\n",
       "    </tr>\n",
       "  </tbody>\n",
       "</table>\n",
       "</div>"
      ],
      "text/plain": [
       "   Bot  DDoS  DoS GoldenEye  DoS Hulk  DoS Slowhttptest  DoS slowloris  \\\n",
       "0  0.0   0.0       0.000000  0.999998               0.0        0.00000   \n",
       "1  0.0   0.0       0.000245  0.999033               0.0        0.00000   \n",
       "2  0.0   0.0       0.000000  0.001265               0.0        0.26975   \n",
       "3  0.0   1.0       0.000105  0.000215               0.0        0.00000   \n",
       "4  0.0   0.0       0.000000  0.992948               0.0        0.00000   \n",
       "\n",
       "   FTP-Patator  Heartbleed  Infiltration  PortScan  SSH-Patator  Web-Attack  \n",
       "0          0.0         0.0           0.0  0.000012          0.0         0.0  \n",
       "1          0.0         0.0           0.0  0.000021          0.0         0.0  \n",
       "2          0.0         0.0           0.0  0.999998          0.0         0.0  \n",
       "3          0.0         0.0           0.0  0.000000          0.0         0.0  \n",
       "4          0.0         0.0           0.0  0.000021          0.0         0.0  "
      ]
     },
     "execution_count": 29,
     "metadata": {},
     "output_type": "execute_result"
    }
   ],
   "source": [
    "df_prob.head(5)"
   ]
  },
  {
   "cell_type": "code",
   "execution_count": 30,
   "metadata": {},
   "outputs": [],
   "source": [
    "# adding label column to the DF  based on max value ( First Occurance)\n",
    "df_prob['Label'] = df_prob.idxmax(axis=1)"
   ]
  },
  {
   "cell_type": "code",
   "execution_count": 34,
   "metadata": {
    "scrolled": false
   },
   "outputs": [
    {
     "data": {
      "text/plain": [
       "{'DoS slowloris': 0,\n",
       " 'SSH-Patator': 1,\n",
       " 'DoS Slowhttptest': 2,\n",
       " 'FTP-Patator': 3,\n",
       " 'Heartbleed': 4,\n",
       " 'Web-Attack': 5,\n",
       " 'DoS Hulk': 6,\n",
       " 'Infiltration': 7,\n",
       " 'Bot': 8,\n",
       " 'DDoS': 9,\n",
       " 'PortScan': 10,\n",
       " 'DoS GoldenEye': 11}"
      ]
     },
     "execution_count": 34,
     "metadata": {},
     "output_type": "execute_result"
    }
   ],
   "source": [
    "predictDict"
   ]
  },
  {
   "cell_type": "code",
   "execution_count": 33,
   "metadata": {},
   "outputs": [],
   "source": [
    "predictDict = {k:v for k,v in  zip(list(dd.keys()),[_ for _ in range(len(dd))])}"
   ]
  },
  {
   "cell_type": "code",
   "execution_count": 1094,
   "metadata": {},
   "outputs": [
    {
     "data": {
      "text/plain": [
       "{'DoS slowloris': 0,\n",
       " 'SSH-Patator': 1,\n",
       " 'DoS Slowhttptest': 2,\n",
       " 'FTP-Patator': 3,\n",
       " 'Heartbleed': 4,\n",
       " 'Web-Attack': 5,\n",
       " 'DoS Hulk': 6,\n",
       " 'Infiltration': 7,\n",
       " 'Bot': 8,\n",
       " 'DDoS': 9,\n",
       " 'PortScan': 10,\n",
       " 'DoS GoldenEye': 11}"
      ]
     },
     "execution_count": 1094,
     "metadata": {},
     "output_type": "execute_result"
    }
   ],
   "source": [
    "predictDict"
   ]
  },
  {
   "cell_type": "code",
   "execution_count": 35,
   "metadata": {},
   "outputs": [
    {
     "data": {
      "text/plain": [
       "DoS Hulk            46215\n",
       "PortScan            31786\n",
       "DDoS                 8367\n",
       "DoS GoldenEye        2059\n",
       "FTP-Patator          1588\n",
       "SSH-Patator          1179\n",
       "DoS slowloris        1159\n",
       "DoS Slowhttptest     1100\n",
       "Web-Attack            436\n",
       "Bot                   393\n",
       "Infiltration            7\n",
       "Heartbleed              2\n",
       "Name: nLabel, dtype: int64"
      ]
     },
     "execution_count": 35,
     "metadata": {},
     "output_type": "execute_result"
    }
   ],
   "source": [
    "y_test.value_counts()"
   ]
  },
  {
   "cell_type": "code",
   "execution_count": 36,
   "metadata": {},
   "outputs": [],
   "source": [
    "#predictDict = {k:v for k,v in  zip(list(dd.keys()),[_ for _ in range(len(dd))])}\n",
    "y_prd_after_encoding = df_prob.Label.map(lambda x : predictDict[x]) # From predictions\n",
    "y_test_after_encoding = y_test.map(lambda x : predictDict[x])\n",
    "# Save these for Tsne vis"
   ]
  },
  {
   "cell_type": "code",
   "execution_count": 37,
   "metadata": {},
   "outputs": [
    {
     "data": {
      "text/plain": [
       "(94291,)"
      ]
     },
     "execution_count": 37,
     "metadata": {},
     "output_type": "execute_result"
    }
   ],
   "source": [
    "y_prd_after_encoding.shape"
   ]
  },
  {
   "cell_type": "code",
   "execution_count": 38,
   "metadata": {},
   "outputs": [
    {
     "data": {
      "text/plain": [
       "(94291,)"
      ]
     },
     "execution_count": 38,
     "metadata": {},
     "output_type": "execute_result"
    }
   ],
   "source": [
    "y_test_after_encoding.shape"
   ]
  },
  {
   "cell_type": "code",
   "execution_count": 1053,
   "metadata": {},
   "outputs": [
    {
     "name": "stdout",
     "output_type": "stream",
     "text": [
      "0.9931684447650702\n"
     ]
    }
   ],
   "source": [
    "from sklearn.metrics import accuracy_score\n",
    "print(metrics.precision_score(y_test_after_encoding,y_prd_after_encoding,average=\"weighted\"))"
   ]
  },
  {
   "cell_type": "code",
   "execution_count": 1054,
   "metadata": {},
   "outputs": [
    {
     "name": "stdout",
     "output_type": "stream",
     "text": [
      "0.9926716229544708\n"
     ]
    }
   ],
   "source": [
    "print(metrics.recall_score(y_test_after_encoding,y_prd_after_encoding,average=\"weighted\"))"
   ]
  },
  {
   "cell_type": "code",
   "execution_count": 1055,
   "metadata": {},
   "outputs": [
    {
     "name": "stdout",
     "output_type": "stream",
     "text": [
      "0.9927968149589598\n"
     ]
    }
   ],
   "source": [
    "print(metrics.f1_score(y_test_after_encoding,y_prd_after_encoding,average=\"weighted\"))"
   ]
  },
  {
   "cell_type": "code",
   "execution_count": 1056,
   "metadata": {},
   "outputs": [
    {
     "name": "stdout",
     "output_type": "stream",
     "text": [
      "             precision    recall  f1-score   support\n",
      "\n",
      "          0       0.98      0.93      0.96      1159\n",
      "          1       0.95      1.00      0.97      1179\n",
      "          2       0.91      0.93      0.92      1100\n",
      "          3       0.92      0.99      0.95      1588\n",
      "          4       1.00      1.00      1.00         2\n",
      "          5       0.75      0.99      0.86       436\n",
      "          6       1.00      1.00      1.00     46215\n",
      "          7       0.80      0.57      0.67         7\n",
      "          8       0.99      0.99      0.99       393\n",
      "          9       1.00      0.99      1.00      8367\n",
      "         10       1.00      0.99      1.00     31786\n",
      "         11       0.99      0.96      0.97      2059\n",
      "\n",
      "avg / total       0.99      0.99      0.99     94291\n",
      "\n"
     ]
    }
   ],
   "source": [
    "print(metrics.classification_report(y_test_after_encoding,y_prd_after_encoding))"
   ]
  },
  {
   "cell_type": "code",
   "execution_count": 641,
   "metadata": {},
   "outputs": [],
   "source": [
    "y_prd_after_encoding.to_csv(\"y_prd_after_encoding.csv\",index=None)\n",
    "y_test_after_encoding.to_csv(\"y_test_after_encoding.csv\",index=None)"
   ]
  },
  {
   "cell_type": "code",
   "execution_count": 1063,
   "metadata": {},
   "outputs": [],
   "source": [
    "from MulticoreTSNE import MulticoreTSNE as TSNE"
   ]
  },
  {
   "cell_type": "code",
   "execution_count": 27,
   "metadata": {},
   "outputs": [],
   "source": [
    "vis_cols = ['Bwd Packets/s', 'Init_Win_bytes_backward',\n",
    "       'Total Length of Fwd Packets', 'Subflow Fwd Bytes',\n",
    "       'Fwd Packet Length Mean', 'Flow IAT Min', 'Bwd IAT Mean',\n",
    "       'Flow Duration', 'Flow IAT Std', 'Active Mean',\n",
    "       'Flow IAT Mean', 'Active Min', 'Bwd Packet Length Std',\n",
    "       'Init_Win_bytes_forward', 'Average Packet Size', 'Fwd IAT Min', 'Fwd IAT Mean', 'Fwd Packets/s']"
   ]
  },
  {
   "cell_type": "code",
   "execution_count": 28,
   "metadata": {},
   "outputs": [],
   "source": [
    "X_test_vis = X_test[vis_cols]"
   ]
  },
  {
   "cell_type": "code",
   "execution_count": 29,
   "metadata": {},
   "outputs": [
    {
     "data": {
      "text/html": [
       "<div>\n",
       "<style scoped>\n",
       "    .dataframe tbody tr th:only-of-type {\n",
       "        vertical-align: middle;\n",
       "    }\n",
       "\n",
       "    .dataframe tbody tr th {\n",
       "        vertical-align: top;\n",
       "    }\n",
       "\n",
       "    .dataframe thead th {\n",
       "        text-align: right;\n",
       "    }\n",
       "</style>\n",
       "<table border=\"1\" class=\"dataframe\">\n",
       "  <thead>\n",
       "    <tr style=\"text-align: right;\">\n",
       "      <th></th>\n",
       "      <th>Bwd Packets/s</th>\n",
       "      <th>Init_Win_bytes_backward</th>\n",
       "      <th>Total Length of Fwd Packets</th>\n",
       "      <th>Subflow Fwd Bytes</th>\n",
       "      <th>Fwd Packet Length Mean</th>\n",
       "      <th>Flow IAT Min</th>\n",
       "      <th>Bwd IAT Mean</th>\n",
       "      <th>Flow Duration</th>\n",
       "      <th>Flow IAT Std</th>\n",
       "      <th>Active Mean</th>\n",
       "      <th>Flow IAT Mean</th>\n",
       "      <th>Active Min</th>\n",
       "      <th>Bwd Packet Length Std</th>\n",
       "      <th>Init_Win_bytes_forward</th>\n",
       "      <th>Average Packet Size</th>\n",
       "      <th>Fwd IAT Min</th>\n",
       "      <th>Fwd IAT Mean</th>\n",
       "      <th>Fwd Packets/s</th>\n",
       "    </tr>\n",
       "  </thead>\n",
       "  <tbody>\n",
       "    <tr>\n",
       "      <th>357241</th>\n",
       "      <td>0.071071</td>\n",
       "      <td>235</td>\n",
       "      <td>306</td>\n",
       "      <td>306</td>\n",
       "      <td>51.000000</td>\n",
       "      <td>1</td>\n",
       "      <td>16400000.0</td>\n",
       "      <td>98493700</td>\n",
       "      <td>28400000.00</td>\n",
       "      <td>13016.0</td>\n",
       "      <td>8207808.333</td>\n",
       "      <td>13016</td>\n",
       "      <td>2425.837852</td>\n",
       "      <td>0</td>\n",
       "      <td>915.923077</td>\n",
       "      <td>1</td>\n",
       "      <td>19700000.0</td>\n",
       "      <td>0.060918</td>\n",
       "    </tr>\n",
       "    <tr>\n",
       "      <th>388164</th>\n",
       "      <td>0.071234</td>\n",
       "      <td>235</td>\n",
       "      <td>364</td>\n",
       "      <td>364</td>\n",
       "      <td>40.444444</td>\n",
       "      <td>0</td>\n",
       "      <td>34695.6</td>\n",
       "      <td>84229113</td>\n",
       "      <td>22500000.00</td>\n",
       "      <td>2984.0</td>\n",
       "      <td>6016365.214</td>\n",
       "      <td>2984</td>\n",
       "      <td>2181.008184</td>\n",
       "      <td>251</td>\n",
       "      <td>797.266667</td>\n",
       "      <td>0</td>\n",
       "      <td>10500000.0</td>\n",
       "      <td>0.106851</td>\n",
       "    </tr>\n",
       "    <tr>\n",
       "      <th>194162</th>\n",
       "      <td>43478.260870</td>\n",
       "      <td>0</td>\n",
       "      <td>2</td>\n",
       "      <td>2</td>\n",
       "      <td>2.000000</td>\n",
       "      <td>23</td>\n",
       "      <td>0.0</td>\n",
       "      <td>23</td>\n",
       "      <td>0.00</td>\n",
       "      <td>0.0</td>\n",
       "      <td>23.000</td>\n",
       "      <td>0</td>\n",
       "      <td>0.000000</td>\n",
       "      <td>1024</td>\n",
       "      <td>5.000000</td>\n",
       "      <td>0</td>\n",
       "      <td>0.0</td>\n",
       "      <td>43478.260870</td>\n",
       "    </tr>\n",
       "    <tr>\n",
       "      <th>34166</th>\n",
       "      <td>0.000000</td>\n",
       "      <td>-1</td>\n",
       "      <td>30</td>\n",
       "      <td>30</td>\n",
       "      <td>6.000000</td>\n",
       "      <td>1</td>\n",
       "      <td>0.0</td>\n",
       "      <td>11020714</td>\n",
       "      <td>5508842.36</td>\n",
       "      <td>2272.0</td>\n",
       "      <td>2755178.500</td>\n",
       "      <td>2272</td>\n",
       "      <td>0.000000</td>\n",
       "      <td>256</td>\n",
       "      <td>7.200000</td>\n",
       "      <td>1</td>\n",
       "      <td>2755178.5</td>\n",
       "      <td>0.453691</td>\n",
       "    </tr>\n",
       "    <tr>\n",
       "      <th>340523</th>\n",
       "      <td>0.075423</td>\n",
       "      <td>235</td>\n",
       "      <td>312</td>\n",
       "      <td>312</td>\n",
       "      <td>44.571429</td>\n",
       "      <td>1</td>\n",
       "      <td>36895.5</td>\n",
       "      <td>66292714</td>\n",
       "      <td>19900000.00</td>\n",
       "      <td>5.0</td>\n",
       "      <td>6026610.364</td>\n",
       "      <td>5</td>\n",
       "      <td>3003.171157</td>\n",
       "      <td>251</td>\n",
       "      <td>992.250000</td>\n",
       "      <td>1</td>\n",
       "      <td>11000000.0</td>\n",
       "      <td>0.105592</td>\n",
       "    </tr>\n",
       "  </tbody>\n",
       "</table>\n",
       "</div>"
      ],
      "text/plain": [
       "        Bwd Packets/s  Init_Win_bytes_backward  Total Length of Fwd Packets  \\\n",
       "357241       0.071071                      235                          306   \n",
       "388164       0.071234                      235                          364   \n",
       "194162   43478.260870                        0                            2   \n",
       "34166        0.000000                       -1                           30   \n",
       "340523       0.075423                      235                          312   \n",
       "\n",
       "        Subflow Fwd Bytes  Fwd Packet Length Mean  Flow IAT Min  Bwd IAT Mean  \\\n",
       "357241                306               51.000000             1    16400000.0   \n",
       "388164                364               40.444444             0       34695.6   \n",
       "194162                  2                2.000000            23           0.0   \n",
       "34166                  30                6.000000             1           0.0   \n",
       "340523                312               44.571429             1       36895.5   \n",
       "\n",
       "        Flow Duration  Flow IAT Std  Active Mean  Flow IAT Mean  Active Min  \\\n",
       "357241       98493700   28400000.00      13016.0    8207808.333       13016   \n",
       "388164       84229113   22500000.00       2984.0    6016365.214        2984   \n",
       "194162             23          0.00          0.0         23.000           0   \n",
       "34166        11020714    5508842.36       2272.0    2755178.500        2272   \n",
       "340523       66292714   19900000.00          5.0    6026610.364           5   \n",
       "\n",
       "        Bwd Packet Length Std  Init_Win_bytes_forward  Average Packet Size  \\\n",
       "357241            2425.837852                       0           915.923077   \n",
       "388164            2181.008184                     251           797.266667   \n",
       "194162               0.000000                    1024             5.000000   \n",
       "34166                0.000000                     256             7.200000   \n",
       "340523            3003.171157                     251           992.250000   \n",
       "\n",
       "        Fwd IAT Min  Fwd IAT Mean  Fwd Packets/s  \n",
       "357241            1    19700000.0       0.060918  \n",
       "388164            0    10500000.0       0.106851  \n",
       "194162            0           0.0   43478.260870  \n",
       "34166             1     2755178.5       0.453691  \n",
       "340523            1    11000000.0       0.105592  "
      ]
     },
     "execution_count": 29,
     "metadata": {},
     "output_type": "execute_result"
    }
   ],
   "source": [
    "X_test_vis.head(5)"
   ]
  },
  {
   "cell_type": "code",
   "execution_count": 1078,
   "metadata": {},
   "outputs": [],
   "source": [
    "# TSNE Visualization \n",
    "tsne = TSNE(n_jobs=8,n_iter=5000,verbose=1,perplexity=50)\n",
    "tsne_plot_vis = tsne.fit_transform(X_test_vis)"
   ]
  },
  {
   "cell_type": "code",
   "execution_count": 1080,
   "metadata": {},
   "outputs": [
    {
     "data": {
      "text/plain": [
       "(94291, 2)"
      ]
     },
     "execution_count": 1080,
     "metadata": {},
     "output_type": "execute_result"
    }
   ],
   "source": [
    "tsne_plot_vis.shape"
   ]
  },
  {
   "cell_type": "code",
   "execution_count": 1082,
   "metadata": {},
   "outputs": [],
   "source": [
    "import matplotlib.cm as cm"
   ]
  },
  {
   "cell_type": "code",
   "execution_count": 44,
   "metadata": {},
   "outputs": [],
   "source": [
    "%matplotlib inline\n",
    "def plot(tsne_resultsRfPred,labelss,str):\n",
    "   target_ids = range(0,12)\n",
    "   #target_ids = range(0,2)\n",
    "   font_size = 10\n",
    "   Label=['Benign','Attack']\n",
    "   from matplotlib import pyplot as plt\n",
    "   #plt.figure(figsize=(6, 5))\n",
    "   plt.figure(figsize=(10,10))\n",
    "   x = np.arange(13)\n",
    "   ys = [i+x+(i*x)**2 for i in range(13)]\n",
    "   #colors = cm.rainbow(np.linspace(0, 1, len(ys)))\n",
    "   colors = 'r', 'g', 'b', 'c', 'm', 'y', 'k', 'orange', 'purple','dimgray','rosybrown','firebrick'#,'maroon','khaki','indigo'\n",
    "   #colors = 'r', 'g'\n",
    "   for i, c, label in zip(target_ids, colors, [_ for _ in target_ids]):\n",
    "       plt.scatter(tsne_resultsRfPred[labelss==i, 0], tsne_resultsRfPred[labelss==i, 1], c=c, label=label,s=3,edgecolors='face')\n",
    "   plt.title(str, fontsize=font_size,loc=\"center\")\n",
    "   plt.xlabel(\"Dimension 1\", fontsize=font_size)\n",
    "   plt.ylabel(\"Dimension 2\", fontsize=font_size)\n",
    "   plt.legend(loc=1,fontsize =font_size,bbox_to_anchor=(1.05, 1,), borderaxespad=-3.3)\n",
    "   #plt.savefig(str+\"_Tsne.eps\",format='eps',dpi=1000)"
   ]
  },
  {
   "cell_type": "code",
   "execution_count": 45,
   "metadata": {},
   "outputs": [
    {
     "data": {
      "image/png": "[encoded data removed]",
      "text/plain": [
       "<Figure size 720x720 with 1 Axes>"
      ]
     },
     "metadata": {},
     "output_type": "display_data"
    }
   ],
   "source": [
    "plot(tt,y_prd_after_encoding,'Predicted Label for Attacks Classificaltion')"
   ]
  },
  {
   "cell_type": "code",
   "execution_count": 13,
   "metadata": {},
   "outputs": [
    {
     "ename": "NameError",
     "evalue": "name 'tsne_plot_vis' is not defined",
     "output_type": "error",
     "traceback": [
      "\u001b[0;31m---------------------------------------------------------------------------\u001b[0m",
      "\u001b[0;31mNameError\u001b[0m                                 Traceback (most recent call last)",
      "\u001b[0;32m<ipython-input-13-b087b7a57b6e>\u001b[0m in \u001b[0;36m<module>\u001b[0;34m()\u001b[0m\n\u001b[1;32m      1\u001b[0m \u001b[0;32mwith\u001b[0m \u001b[0mopen\u001b[0m\u001b[0;34m(\u001b[0m\u001b[0;34m\"tsne_vis_5k.bin\"\u001b[0m\u001b[0;34m,\u001b[0m\u001b[0;34m\"wb\"\u001b[0m\u001b[0;34m)\u001b[0m \u001b[0;32mas\u001b[0m \u001b[0mfout\u001b[0m\u001b[0;34m:\u001b[0m\u001b[0;34m\u001b[0m\u001b[0m\n\u001b[0;32m----> 2\u001b[0;31m             \u001b[0mpickle\u001b[0m\u001b[0;34m.\u001b[0m\u001b[0mdump\u001b[0m\u001b[0;34m(\u001b[0m\u001b[0mtsne_plot_vis\u001b[0m\u001b[0;34m,\u001b[0m\u001b[0mfout\u001b[0m\u001b[0;34m,\u001b[0m\u001b[0mpickle\u001b[0m\u001b[0;34m.\u001b[0m\u001b[0mDEFAULT_PROTOCOL\u001b[0m\u001b[0;34m)\u001b[0m\u001b[0;34m\u001b[0m\u001b[0m\n\u001b[0m",
      "\u001b[0;31mNameError\u001b[0m: name 'tsne_plot_vis' is not defined"
     ]
    }
   ],
   "source": [
    "with open(\"tsne_vis_5k.bin\",\"wb\") as fout:\n",
    "            pickle.dump(tsne_plot_vis,fout,pickle.DEFAULT_PROTOCOL)"
   ]
  },
  {
   "cell_type": "code",
   "execution_count": 5,
   "metadata": {},
   "outputs": [],
   "source": [
    "from sklearn.externals import joblib"
   ]
  },
  {
   "cell_type": "code",
   "execution_count": 7,
   "metadata": {},
   "outputs": [],
   "source": [
    "pickle_off = open(\"tsne_vis_5k.bin\",\"rb\")"
   ]
  },
  {
   "cell_type": "code",
   "execution_count": 1096,
   "metadata": {},
   "outputs": [],
   "source": [
    "tsne = TSNE(n_jobs=8,n_iter=5000,verbose=1,perplexity=100)\n",
    "tsne_plot_vis_final = tsne.fit_transform(X_test_vis)"
   ]
  },
  {
   "cell_type": "code",
   "execution_count": 1102,
   "metadata": {},
   "outputs": [
    {
     "data": {
      "image/png": "[encoded data removed]",
      "text/plain": [
       "<Figure size 720x720 with 1 Axes>"
      ]
     },
     "metadata": {},
     "output_type": "display_data"
    }
   ],
   "source": [
    "plot(tsne_plot_vis_final,y_prd_after_encoding,'Predicted Label for Attacks Classificaltion')"
   ]
  },
  {
   "cell_type": "code",
   "execution_count": 24,
   "metadata": {},
   "outputs": [],
   "source": [
    "# We import sklearn.\n",
    "import sklearn\n",
    "from sklearn.manifold import TSNE\n",
    "RS = 20150101"
   ]
  },
  {
   "cell_type": "code",
   "execution_count": 33,
   "metadata": {},
   "outputs": [
    {
     "name": "stdout",
     "output_type": "stream",
     "text": [
      "[t-SNE] Computing 91 nearest neighbors...\n",
      "[t-SNE] Indexed 94291 samples in 0.707s...\n",
      "[t-SNE] Computed neighbors for 94291 samples in 13.426s...\n",
      "[t-SNE] Computed conditional probabilities for sample 1000 / 94291\n",
      "[t-SNE] Computed conditional probabilities for sample 2000 / 94291\n",
      "[t-SNE] Computed conditional probabilities for sample 3000 / 94291\n",
      "[t-SNE] Computed conditional probabilities for sample 4000 / 94291\n",
      "[t-SNE] Computed conditional probabilities for sample 5000 / 94291\n",
      "[t-SNE] Computed conditional probabilities for sample 6000 / 94291\n",
      "[t-SNE] Computed conditional probabilities for sample 7000 / 94291\n",
      "[t-SNE] Computed conditional probabilities for sample 8000 / 94291\n",
      "[t-SNE] Computed conditional probabilities for sample 9000 / 94291\n",
      "[t-SNE] Computed conditional probabilities for sample 10000 / 94291\n",
      "[t-SNE] Computed conditional probabilities for sample 11000 / 94291\n",
      "[t-SNE] Computed conditional probabilities for sample 12000 / 94291\n",
      "[t-SNE] Computed conditional probabilities for sample 13000 / 94291\n",
      "[t-SNE] Computed conditional probabilities for sample 14000 / 94291\n",
      "[t-SNE] Computed conditional probabilities for sample 15000 / 94291\n",
      "[t-SNE] Computed conditional probabilities for sample 16000 / 94291\n",
      "[t-SNE] Computed conditional probabilities for sample 17000 / 94291\n",
      "[t-SNE] Computed conditional probabilities for sample 18000 / 94291\n",
      "[t-SNE] Computed conditional probabilities for sample 19000 / 94291\n",
      "[t-SNE] Computed conditional probabilities for sample 20000 / 94291\n",
      "[t-SNE] Computed conditional probabilities for sample 21000 / 94291\n",
      "[t-SNE] Computed conditional probabilities for sample 22000 / 94291\n",
      "[t-SNE] Computed conditional probabilities for sample 23000 / 94291\n",
      "[t-SNE] Computed conditional probabilities for sample 24000 / 94291\n",
      "[t-SNE] Computed conditional probabilities for sample 25000 / 94291\n",
      "[t-SNE] Computed conditional probabilities for sample 26000 / 94291\n",
      "[t-SNE] Computed conditional probabilities for sample 27000 / 94291\n",
      "[t-SNE] Computed conditional probabilities for sample 28000 / 94291\n",
      "[t-SNE] Computed conditional probabilities for sample 29000 / 94291\n",
      "[t-SNE] Computed conditional probabilities for sample 30000 / 94291\n",
      "[t-SNE] Computed conditional probabilities for sample 31000 / 94291\n",
      "[t-SNE] Computed conditional probabilities for sample 32000 / 94291\n",
      "[t-SNE] Computed conditional probabilities for sample 33000 / 94291\n",
      "[t-SNE] Computed conditional probabilities for sample 34000 / 94291\n",
      "[t-SNE] Computed conditional probabilities for sample 35000 / 94291\n",
      "[t-SNE] Computed conditional probabilities for sample 36000 / 94291\n",
      "[t-SNE] Computed conditional probabilities for sample 37000 / 94291\n",
      "[t-SNE] Computed conditional probabilities for sample 38000 / 94291\n",
      "[t-SNE] Computed conditional probabilities for sample 39000 / 94291\n",
      "[t-SNE] Computed conditional probabilities for sample 40000 / 94291\n",
      "[t-SNE] Computed conditional probabilities for sample 41000 / 94291\n",
      "[t-SNE] Computed conditional probabilities for sample 42000 / 94291\n",
      "[t-SNE] Computed conditional probabilities for sample 43000 / 94291\n",
      "[t-SNE] Computed conditional probabilities for sample 44000 / 94291\n",
      "[t-SNE] Computed conditional probabilities for sample 45000 / 94291\n",
      "[t-SNE] Computed conditional probabilities for sample 46000 / 94291\n",
      "[t-SNE] Computed conditional probabilities for sample 47000 / 94291\n",
      "[t-SNE] Computed conditional probabilities for sample 48000 / 94291\n",
      "[t-SNE] Computed conditional probabilities for sample 49000 / 94291\n",
      "[t-SNE] Computed conditional probabilities for sample 50000 / 94291\n",
      "[t-SNE] Computed conditional probabilities for sample 51000 / 94291\n",
      "[t-SNE] Computed conditional probabilities for sample 52000 / 94291\n",
      "[t-SNE] Computed conditional probabilities for sample 53000 / 94291\n",
      "[t-SNE] Computed conditional probabilities for sample 54000 / 94291\n",
      "[t-SNE] Computed conditional probabilities for sample 55000 / 94291\n",
      "[t-SNE] Computed conditional probabilities for sample 56000 / 94291\n",
      "[t-SNE] Computed conditional probabilities for sample 57000 / 94291\n",
      "[t-SNE] Computed conditional probabilities for sample 58000 / 94291\n",
      "[t-SNE] Computed conditional probabilities for sample 59000 / 94291\n",
      "[t-SNE] Computed conditional probabilities for sample 60000 / 94291\n",
      "[t-SNE] Computed conditional probabilities for sample 61000 / 94291\n",
      "[t-SNE] Computed conditional probabilities for sample 62000 / 94291\n",
      "[t-SNE] Computed conditional probabilities for sample 63000 / 94291\n",
      "[t-SNE] Computed conditional probabilities for sample 64000 / 94291\n",
      "[t-SNE] Computed conditional probabilities for sample 65000 / 94291\n",
      "[t-SNE] Computed conditional probabilities for sample 66000 / 94291\n",
      "[t-SNE] Computed conditional probabilities for sample 67000 / 94291\n",
      "[t-SNE] Computed conditional probabilities for sample 68000 / 94291\n",
      "[t-SNE] Computed conditional probabilities for sample 69000 / 94291\n",
      "[t-SNE] Computed conditional probabilities for sample 70000 / 94291\n",
      "[t-SNE] Computed conditional probabilities for sample 71000 / 94291\n",
      "[t-SNE] Computed conditional probabilities for sample 72000 / 94291\n",
      "[t-SNE] Computed conditional probabilities for sample 73000 / 94291\n",
      "[t-SNE] Computed conditional probabilities for sample 74000 / 94291\n",
      "[t-SNE] Computed conditional probabilities for sample 75000 / 94291\n",
      "[t-SNE] Computed conditional probabilities for sample 76000 / 94291\n",
      "[t-SNE] Computed conditional probabilities for sample 77000 / 94291\n",
      "[t-SNE] Computed conditional probabilities for sample 78000 / 94291\n",
      "[t-SNE] Computed conditional probabilities for sample 79000 / 94291\n",
      "[t-SNE] Computed conditional probabilities for sample 80000 / 94291\n",
      "[t-SNE] Computed conditional probabilities for sample 81000 / 94291\n",
      "[t-SNE] Computed conditional probabilities for sample 82000 / 94291\n",
      "[t-SNE] Computed conditional probabilities for sample 83000 / 94291\n",
      "[t-SNE] Computed conditional probabilities for sample 84000 / 94291\n",
      "[t-SNE] Computed conditional probabilities for sample 85000 / 94291\n",
      "[t-SNE] Computed conditional probabilities for sample 86000 / 94291\n",
      "[t-SNE] Computed conditional probabilities for sample 87000 / 94291\n",
      "[t-SNE] Computed conditional probabilities for sample 88000 / 94291\n",
      "[t-SNE] Computed conditional probabilities for sample 89000 / 94291\n",
      "[t-SNE] Computed conditional probabilities for sample 90000 / 94291\n",
      "[t-SNE] Computed conditional probabilities for sample 91000 / 94291\n",
      "[t-SNE] Computed conditional probabilities for sample 92000 / 94291\n",
      "[t-SNE] Computed conditional probabilities for sample 93000 / 94291\n",
      "[t-SNE] Computed conditional probabilities for sample 94000 / 94291\n",
      "[t-SNE] Computed conditional probabilities for sample 94291 / 94291\n",
      "[t-SNE] Mean sigma: 0.000000\n"
     ]
    },
    {
     "ename": "TypeError",
     "evalue": "_gradient_descent() got an unexpected keyword argument 'n_iter_check'",
     "output_type": "error",
     "traceback": [
      "\u001b[0;31m---------------------------------------------------------------------------\u001b[0m",
      "\u001b[0;31mTypeError\u001b[0m                                 Traceback (most recent call last)",
      "\u001b[0;32m<ipython-input-33-67fe965cdb20>\u001b[0m in \u001b[0;36m<module>\u001b[0;34m()\u001b[0m\n\u001b[0;32m----> 1\u001b[0;31m \u001b[0mtsne_transform\u001b[0m \u001b[0;34m=\u001b[0m \u001b[0mTSNE\u001b[0m\u001b[0;34m(\u001b[0m\u001b[0mrandom_state\u001b[0m\u001b[0;34m=\u001b[0m\u001b[0mRS\u001b[0m\u001b[0;34m,\u001b[0m\u001b[0mverbose\u001b[0m\u001b[0;34m=\u001b[0m\u001b[0;36m1\u001b[0m\u001b[0;34m)\u001b[0m\u001b[0;34m.\u001b[0m\u001b[0mfit_transform\u001b[0m\u001b[0;34m(\u001b[0m\u001b[0mX_test_vis\u001b[0m\u001b[0;34m)\u001b[0m\u001b[0;34m\u001b[0m\u001b[0m\n\u001b[0m",
      "\u001b[0;32m/Library/Frameworks/Python.framework/Versions/3.6/lib/python3.6/site-packages/sklearn/manifold/t_sne.py\u001b[0m in \u001b[0;36mfit_transform\u001b[0;34m(self, X, y)\u001b[0m\n\u001b[1;32m    856\u001b[0m             \u001b[0mEmbedding\u001b[0m \u001b[0mof\u001b[0m \u001b[0mthe\u001b[0m \u001b[0mtraining\u001b[0m \u001b[0mdata\u001b[0m \u001b[0;32min\u001b[0m \u001b[0mlow\u001b[0m\u001b[0;34m-\u001b[0m\u001b[0mdimensional\u001b[0m \u001b[0mspace\u001b[0m\u001b[0;34m.\u001b[0m\u001b[0;34m\u001b[0m\u001b[0m\n\u001b[1;32m    857\u001b[0m         \"\"\"\n\u001b[0;32m--> 858\u001b[0;31m         \u001b[0membedding\u001b[0m \u001b[0;34m=\u001b[0m \u001b[0mself\u001b[0m\u001b[0;34m.\u001b[0m\u001b[0m_fit\u001b[0m\u001b[0;34m(\u001b[0m\u001b[0mX\u001b[0m\u001b[0;34m)\u001b[0m\u001b[0;34m\u001b[0m\u001b[0m\n\u001b[0m\u001b[1;32m    859\u001b[0m         \u001b[0mself\u001b[0m\u001b[0;34m.\u001b[0m\u001b[0membedding_\u001b[0m \u001b[0;34m=\u001b[0m \u001b[0membedding\u001b[0m\u001b[0;34m\u001b[0m\u001b[0m\n\u001b[1;32m    860\u001b[0m         \u001b[0;32mreturn\u001b[0m \u001b[0mself\u001b[0m\u001b[0;34m.\u001b[0m\u001b[0membedding_\u001b[0m\u001b[0;34m\u001b[0m\u001b[0m\n",
      "\u001b[0;32m/Library/Frameworks/Python.framework/Versions/3.6/lib/python3.6/site-packages/sklearn/manifold/t_sne.py\u001b[0m in \u001b[0;36m_fit\u001b[0;34m(self, X, skip_num_points)\u001b[0m\n\u001b[1;32m    768\u001b[0m                           \u001b[0mX_embedded\u001b[0m\u001b[0;34m=\u001b[0m\u001b[0mX_embedded\u001b[0m\u001b[0;34m,\u001b[0m\u001b[0;34m\u001b[0m\u001b[0m\n\u001b[1;32m    769\u001b[0m                           \u001b[0mneighbors\u001b[0m\u001b[0;34m=\u001b[0m\u001b[0mneighbors_nn\u001b[0m\u001b[0;34m,\u001b[0m\u001b[0;34m\u001b[0m\u001b[0m\n\u001b[0;32m--> 770\u001b[0;31m                           skip_num_points=skip_num_points)\n\u001b[0m\u001b[1;32m    771\u001b[0m \u001b[0;34m\u001b[0m\u001b[0m\n\u001b[1;32m    772\u001b[0m     \u001b[0;34m@\u001b[0m\u001b[0mproperty\u001b[0m\u001b[0;34m\u001b[0m\u001b[0m\n",
      "\u001b[0;32m/Library/Frameworks/Python.framework/Versions/3.6/lib/python3.6/site-packages/sklearn/manifold/t_sne.py\u001b[0m in \u001b[0;36m_tsne\u001b[0;34m(self, P, degrees_of_freedom, n_samples, X_embedded, neighbors, skip_num_points)\u001b[0m\n\u001b[1;32m    810\u001b[0m         \u001b[0mP\u001b[0m \u001b[0;34m*=\u001b[0m \u001b[0mself\u001b[0m\u001b[0;34m.\u001b[0m\u001b[0mearly_exaggeration\u001b[0m\u001b[0;34m\u001b[0m\u001b[0m\n\u001b[1;32m    811\u001b[0m         params, kl_divergence, it = _gradient_descent(obj_func, params,\n\u001b[0;32m--> 812\u001b[0;31m                                                       **opt_args)\n\u001b[0m\u001b[1;32m    813\u001b[0m         \u001b[0;32mif\u001b[0m \u001b[0mself\u001b[0m\u001b[0;34m.\u001b[0m\u001b[0mverbose\u001b[0m\u001b[0;34m:\u001b[0m\u001b[0;34m\u001b[0m\u001b[0m\n\u001b[1;32m    814\u001b[0m             print(\"[t-SNE] KL divergence after %d iterations with early \"\n",
      "\u001b[0;31mTypeError\u001b[0m: _gradient_descent() got an unexpected keyword argument 'n_iter_check'"
     ]
    }
   ],
   "source": [
    "tsne_transform = TSNE(random_state=RS,verbose=1).fit_transform(X_test_vis)"
   ]
  },
  {
   "cell_type": "code",
   "execution_count": 31,
   "metadata": {},
   "outputs": [],
   "source": [
    "# This list will contain the positions of the map points at every iteration.\n",
    "positions = []\n",
    "def _gradient_descent(objective, p0, it, n_iter, n_iter_without_progress=30,\n",
    "                      momentum=0.5, learning_rate=1000.0, min_gain=0.01,\n",
    "                      min_grad_norm=1e-7, min_error_diff=1e-7, verbose=0,\n",
    "                      args=[]):\n",
    "    # The documentation of this function can be found in scikit-learn's code.\n",
    "    p = p0.copy().ravel()\n",
    "    update = np.zeros_like(p)\n",
    "    gains = np.ones_like(p)\n",
    "    error = np.finfo(np.float).max\n",
    "    best_error = np.finfo(np.float).max\n",
    "    best_iter = 0\n",
    "\n",
    "    for i in range(it, n_iter):\n",
    "        # We save the current position.\n",
    "        positions.append(p.copy())\n",
    "\n",
    "        new_error, grad = objective(p, *args)\n",
    "        error_diff = np.abs(new_error - error)\n",
    "        error = new_error\n",
    "        grad_norm = linalg.norm(grad)\n",
    "\n",
    "        if error < best_error:\n",
    "            best_error = error\n",
    "            best_iter = i\n",
    "        elif i - best_iter > n_iter_without_progress:\n",
    "            break\n",
    "        if min_grad_norm >= grad_norm:\n",
    "            break\n",
    "        if min_error_diff >= error_diff:\n",
    "            break\n",
    "\n",
    "        inc = update * grad >= 0.0\n",
    "        dec = np.invert(inc)\n",
    "        gains[inc] += 0.05\n",
    "        gains[dec] *= 0.95\n",
    "        np.clip(gains, min_gain, np.inf)\n",
    "        grad *= gains\n",
    "        update = momentum * update - learning_rate * grad\n",
    "        p += update\n",
    "\n",
    "    return p, error, i"
   ]
  },
  {
   "cell_type": "code",
   "execution_count": 32,
   "metadata": {},
   "outputs": [],
   "source": [
    "sklearn.manifold.t_sne._gradient_descent = _gradient_descent"
   ]
  },
  {
   "cell_type": "code",
   "execution_count": 11,
   "metadata": {},
   "outputs": [
    {
     "ename": "EOFError",
     "evalue": "Ran out of input",
     "output_type": "error",
     "traceback": [
      "\u001b[0;31m---------------------------------------------------------------------------\u001b[0m",
      "\u001b[0;31mEOFError\u001b[0m                                  Traceback (most recent call last)",
      "\u001b[0;32m<ipython-input-11-aefda72551fc>\u001b[0m in \u001b[0;36m<module>\u001b[0;34m()\u001b[0m\n\u001b[1;32m      1\u001b[0m \u001b[0;32mwith\u001b[0m \u001b[0mopen\u001b[0m\u001b[0;34m(\u001b[0m\u001b[0;34m\"tsne_vis_5k.bin\"\u001b[0m\u001b[0;34m,\u001b[0m\u001b[0;34m\"rb\"\u001b[0m\u001b[0;34m)\u001b[0m \u001b[0;32mas\u001b[0m  \u001b[0mfout\u001b[0m\u001b[0;34m:\u001b[0m\u001b[0;34m\u001b[0m\u001b[0m\n\u001b[0;32m----> 2\u001b[0;31m     \u001b[0mtsne\u001b[0m \u001b[0;34m=\u001b[0m \u001b[0mpickle\u001b[0m\u001b[0;34m.\u001b[0m\u001b[0mload\u001b[0m\u001b[0;34m(\u001b[0m\u001b[0mfout\u001b[0m\u001b[0;34m)\u001b[0m\u001b[0;34m\u001b[0m\u001b[0m\n\u001b[0m",
      "\u001b[0;31mEOFError\u001b[0m: Ran out of input"
     ]
    }
   ],
   "source": [
    "with open(\"tsne_vis_5k.bin\",\"rb\") as  fout:\n",
    "    tsne = pickle.load(fout)"
   ]
  },
  {
   "cell_type": "code",
   "execution_count": 12,
   "metadata": {},
   "outputs": [],
   "source": [
    "tt = np.load(\"tsne.npy\")"
   ]
  },
  {
   "cell_type": "code",
   "execution_count": 14,
   "metadata": {},
   "outputs": [
    {
     "data": {
      "text/plain": [
       "(94291, 2)"
      ]
     },
     "execution_count": 14,
     "metadata": {},
     "output_type": "execute_result"
    }
   ],
   "source": [
    "tt.shape"
   ]
  },
  {
   "cell_type": "code",
   "execution_count": 66,
   "metadata": {},
   "outputs": [
    {
     "data": {
      "text/plain": [
       "(94291,)"
      ]
     },
     "execution_count": 66,
     "metadata": {},
     "output_type": "execute_result"
    }
   ],
   "source": [
    "tt[:,0].shape"
   ]
  },
  {
   "cell_type": "code",
   "execution_count": 47,
   "metadata": {},
   "outputs": [
    {
     "data": {
      "text/plain": [
       "(94291,)"
      ]
     },
     "execution_count": 47,
     "metadata": {},
     "output_type": "execute_result"
    }
   ],
   "source": [
    "y_test.shape"
   ]
  },
  {
   "cell_type": "code",
   "execution_count": 48,
   "metadata": {},
   "outputs": [
    {
     "data": {
      "text/plain": [
       "357241    DoS Hulk\n",
       "388164    DoS Hulk\n",
       "194162    PortScan\n",
       "34166         DDoS\n",
       "340523    DoS Hulk\n",
       "188453    PortScan\n",
       "108183    PortScan\n",
       "192246    PortScan\n",
       "287555    DoS Hulk\n",
       "311024    DoS Hulk\n",
       "Name: nLabel, dtype: object"
      ]
     },
     "execution_count": 48,
     "metadata": {},
     "output_type": "execute_result"
    }
   ],
   "source": [
    "y_test[:10]"
   ]
  },
  {
   "cell_type": "code",
   "execution_count": 51,
   "metadata": {},
   "outputs": [],
   "source": [
    "distintY = y_test.unique().tolist()"
   ]
  },
  {
   "cell_type": "code",
   "execution_count": 52,
   "metadata": {},
   "outputs": [
    {
     "data": {
      "text/plain": [
       "['DoS Hulk',\n",
       " 'PortScan',\n",
       " 'DDoS',\n",
       " 'FTP-Patator',\n",
       " 'DoS GoldenEye',\n",
       " 'DoS slowloris',\n",
       " 'Web-Attack',\n",
       " 'Bot',\n",
       " 'DoS Slowhttptest',\n",
       " 'SSH-Patator',\n",
       " 'Heartbleed',\n",
       " 'Infiltration']"
      ]
     },
     "execution_count": 52,
     "metadata": {},
     "output_type": "execute_result"
    }
   ],
   "source": [
    "distintY"
   ]
  },
  {
   "cell_type": "code",
   "execution_count": 79,
   "metadata": {},
   "outputs": [],
   "source": [
    "colors = ['aliceblu','antiquewhite', 'aqua', 'aquamarine', 'azure',\n",
    "            'beige', 'bisque', 'black', 'blanchedalmond', 'blue',\n",
    "            'blueviolet', 'brown']"
   ]
  },
  {
   "cell_type": "code",
   "execution_count": 115,
   "metadata": {},
   "outputs": [],
   "source": [
    "import plotly.plotly as py\n",
    "import plotly.graph_objs as go\n",
    "from plotly.offline import download_plotlyjs, init_notebook_mode, plot, iplot\n"
   ]
  },
  {
   "cell_type": "code",
   "execution_count": 122,
   "metadata": {},
   "outputs": [
    {
     "ename": "TypeError",
     "evalue": "'module' object is not callable",
     "output_type": "error",
     "traceback": [
      "\u001b[0;31m---------------------------------------------------------------------------\u001b[0m",
      "\u001b[0;31mTypeError\u001b[0m                                 Traceback (most recent call last)",
      "\u001b[0;32m<ipython-input-122-faf5dcc6c384>\u001b[0m in \u001b[0;36m<module>\u001b[0;34m()\u001b[0m\n\u001b[1;32m      9\u001b[0m     \u001b[0mmode\u001b[0m \u001b[0;34m=\u001b[0m \u001b[0;34m'markers'\u001b[0m\u001b[0;34m,\u001b[0m\u001b[0;34m\u001b[0m\u001b[0m\n\u001b[1;32m     10\u001b[0m     \u001b[0mname\u001b[0m \u001b[0;34m=\u001b[0m \u001b[0;34m't-SNE'\u001b[0m\u001b[0;34m,\u001b[0m\u001b[0;34m\u001b[0m\u001b[0m\n\u001b[0;32m---> 11\u001b[0;31m     marker = dict(size= 2.0,  color= y_prd_after_encoding ,colorbar = dict(title = 'Classes'), colorscale = 'Jet'), text='Test')\n\u001b[0m\u001b[1;32m     12\u001b[0m \u001b[0;34m\u001b[0m\u001b[0m\n\u001b[1;32m     13\u001b[0m \u001b[0;34m\u001b[0m\u001b[0m\n",
      "\u001b[0;31mTypeError\u001b[0m: 'module' object is not callable"
     ]
    }
   ],
   "source": [
    "\n",
    "# df contains your tsne result where \"class\" is the column consisting of your class assignment  \n",
    "\n",
    "trace0 = go.scattergl(\n",
    "    x = tt[:,0],  \n",
    "    y = tt[:,1],\n",
    "    #x = tt[y_test==\"DoS Hulk\", 0],\n",
    "    #y = tt[y_test==\"DoS Hulk\", 1],\n",
    "    mode = 'markers',\n",
    "    name = 't-SNE',\n",
    "    marker = dict(size= 2.0,  color= y_prd_after_encoding ,colorbar = dict(title = 'Classes'), colorscale = 'Jet'), text='Test')\n",
    "\n",
    "\n",
    "fig = {\n",
    "    'data': [trace0]\n",
    "}\n",
    "\n",
    "#Offline Plot\n",
    "\n",
    "plot(fig, filename = 'tsne.html')"
   ]
  },
  {
   "cell_type": "code",
   "execution_count": 138,
   "metadata": {},
   "outputs": [
    {
     "data": {
      "text/plain": [
       "'file:///Users/akumarmandapati/git/AIC/tsne-True.html'"
      ]
     },
     "execution_count": 138,
     "metadata": {},
     "output_type": "execute_result"
    }
   ],
   "source": [
    "# df contains your tsne result where \"class\" is the column consisting of your class assignment  \n",
    "\n",
    "trace0 = go.Scattergl(\n",
    "   x = tt[:,0],  \n",
    "   y = tt[:,1],\n",
    "   #x = tt[y_test==\"DoS Hulk\", 0],\n",
    "   #y = tt[y_test==\"DoS Hulk\", 1],\n",
    "   mode = 'markers',\n",
    "   #name = 't-SNE',\n",
    "   marker = dict(size= 5.0,  color=y_test_after_encoding ,colorbar = dict(title = 'Classes'), colorscale = 'Jet'),     \n",
    "   text=y_test_after_encoding)\n",
    "\n",
    "fig = {\n",
    "   'data': [trace0]\n",
    "}\n",
    "\n",
    "#Offline Plot\n",
    "\n",
    "plot(fig, filename = 'tsne-True.html')"
   ]
  },
  {
   "cell_type": "code",
   "execution_count": 137,
   "metadata": {},
   "outputs": [
    {
     "data": {
      "text/plain": [
       "'file:///Users/akumarmandapati/git/AIC/tsne-Prediction.html'"
      ]
     },
     "execution_count": 137,
     "metadata": {},
     "output_type": "execute_result"
    }
   ],
   "source": [
    "# df contains your tsne result where \"class\" is the column consisting of your class assignment  \n",
    "\n",
    "trace0 = go.Scattergl(\n",
    "   x = tt[:,0],  \n",
    "   y = tt[:,1],\n",
    "   #x = tt[y_test==\"DoS Hulk\", 0],\n",
    "   #y = tt[y_test==\"DoS Hulk\", 1],\n",
    "   mode = 'markers',\n",
    "   #name = 't-SNE',\n",
    "   marker = dict(size= 5.0,  color=y_prd_after_encoding ,colorbar = dict(title = 'Classes'), colorscale = 'Jet'),     \n",
    "   text=y_prd_after_encoding)\n",
    "\n",
    "fig = {\n",
    "   'data': [trace0]\n",
    "}\n",
    "\n",
    "#Offline Plot\n",
    "\n",
    "plot(fig, filename = 'tsne-Prediction.html')"
   ]
  }
 ],
 "metadata": {
  "kernelspec": {
   "display_name": "Python 3",
   "language": "python",
   "name": "python3"
  },
  "language_info": {
   "codemirror_mode": {
    "name": "ipython",
    "version": 3
   },
   "file_extension": ".py",
   "mimetype": "text/x-python",
   "name": "python",
   "nbconvert_exporter": "python",
   "pygments_lexer": "ipython3",
   "version": "3.6.3"
  }
 },
 "nbformat": 4,
 "nbformat_minor": 2
}
