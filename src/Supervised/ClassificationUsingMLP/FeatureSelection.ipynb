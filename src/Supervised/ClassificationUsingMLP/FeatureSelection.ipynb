{
 "cells": [
  {
   "cell_type": "code",
   "execution_count": 72,
   "metadata": {},
   "outputs": [],
   "source": [
    "import pandas as pd\n",
    "import numpy as np"
   ]
  },
  {
   "cell_type": "code",
   "execution_count": 73,
   "metadata": {},
   "outputs": [],
   "source": [
    "from sklearn.feature_selection import mutual_info_classif\n",
    "from sklearn.feature_selection import SelectKBest"
   ]
  },
  {
   "cell_type": "code",
   "execution_count": 74,
   "metadata": {},
   "outputs": [
    {
     "name": "stderr",
     "output_type": "stream",
     "text": [
      "/Users/gauravvashisth/anaconda3/envs/envtf/lib/python3.6/site-packages/IPython/core/interactiveshell.py:2785: DtypeWarning: Columns (20,21) have mixed types. Specify dtype option on import or set low_memory=False.\n",
      "  interactivity=interactivity, compiler=compiler, result=result)\n"
     ]
    }
   ],
   "source": [
    "attakDF = pd.read_csv('completeAttackDataset/part-00000-e6662c78-2efd-429f-b2f4-b5d6cc536f5b-c000.csv')"
   ]
  },
  {
   "cell_type": "code",
   "execution_count": 75,
   "metadata": {},
   "outputs": [
    {
     "data": {
      "text/plain": [
       "(471454, 85)"
      ]
     },
     "execution_count": 75,
     "metadata": {},
     "output_type": "execute_result"
    }
   ],
   "source": [
    "attakDF.shape"
   ]
  },
  {
   "cell_type": "code",
   "execution_count": 76,
   "metadata": {},
   "outputs": [
    {
     "data": {
      "text/html": [
       "<div>\n",
       "<style scoped>\n",
       "    .dataframe tbody tr th:only-of-type {\n",
       "        vertical-align: middle;\n",
       "    }\n",
       "\n",
       "    .dataframe tbody tr th {\n",
       "        vertical-align: top;\n",
       "    }\n",
       "\n",
       "    .dataframe thead th {\n",
       "        text-align: right;\n",
       "    }\n",
       "</style>\n",
       "<table border=\"1\" class=\"dataframe\">\n",
       "  <thead>\n",
       "    <tr style=\"text-align: right;\">\n",
       "      <th></th>\n",
       "      <th>Flow ID</th>\n",
       "      <th>Source IP</th>\n",
       "      <th>Source Port</th>\n",
       "      <th>Destination IP</th>\n",
       "      <th>Destination Port</th>\n",
       "      <th>Protocol</th>\n",
       "      <th>Timestamp</th>\n",
       "      <th>Flow Duration</th>\n",
       "      <th>Total Fwd Packets</th>\n",
       "      <th>Total Backward Packets</th>\n",
       "      <th>...</th>\n",
       "      <th>min_seg_size_forward</th>\n",
       "      <th>Active Mean</th>\n",
       "      <th>Active Std</th>\n",
       "      <th>Active Max</th>\n",
       "      <th>Active Min</th>\n",
       "      <th>Idle Mean</th>\n",
       "      <th>Idle Std</th>\n",
       "      <th>Idle Max</th>\n",
       "      <th>Idle Min</th>\n",
       "      <th>Label</th>\n",
       "    </tr>\n",
       "  </thead>\n",
       "  <tbody>\n",
       "    <tr>\n",
       "      <th>0</th>\n",
       "      <td>172.16.0.1-192.168.10.50-45422-80-6</td>\n",
       "      <td>172.16.0.1</td>\n",
       "      <td>45422.0</td>\n",
       "      <td>192.168.10.50</td>\n",
       "      <td>80.0</td>\n",
       "      <td>6.0</td>\n",
       "      <td>4/7/2017 10:30</td>\n",
       "      <td>5216127.0</td>\n",
       "      <td>3.0</td>\n",
       "      <td>1.0</td>\n",
       "      <td>...</td>\n",
       "      <td>32.0</td>\n",
       "      <td>0.0</td>\n",
       "      <td>0.0</td>\n",
       "      <td>0.0</td>\n",
       "      <td>0.0</td>\n",
       "      <td>0.0</td>\n",
       "      <td>0.0</td>\n",
       "      <td>0.0</td>\n",
       "      <td>0.0</td>\n",
       "      <td>FTP-Patator</td>\n",
       "    </tr>\n",
       "    <tr>\n",
       "      <th>1</th>\n",
       "      <td>172.16.0.1-192.168.10.50-60132-21-6</td>\n",
       "      <td>172.16.0.1</td>\n",
       "      <td>60132.0</td>\n",
       "      <td>192.168.10.50</td>\n",
       "      <td>21.0</td>\n",
       "      <td>6.0</td>\n",
       "      <td>4/7/2017 10:20</td>\n",
       "      <td>20.0</td>\n",
       "      <td>1.0</td>\n",
       "      <td>1.0</td>\n",
       "      <td>...</td>\n",
       "      <td>32.0</td>\n",
       "      <td>0.0</td>\n",
       "      <td>0.0</td>\n",
       "      <td>0.0</td>\n",
       "      <td>0.0</td>\n",
       "      <td>0.0</td>\n",
       "      <td>0.0</td>\n",
       "      <td>0.0</td>\n",
       "      <td>0.0</td>\n",
       "      <td>FTP-Patator</td>\n",
       "    </tr>\n",
       "  </tbody>\n",
       "</table>\n",
       "<p>2 rows × 85 columns</p>\n",
       "</div>"
      ],
      "text/plain": [
       "                               Flow ID   Source IP  Source Port  \\\n",
       "0  172.16.0.1-192.168.10.50-45422-80-6  172.16.0.1      45422.0   \n",
       "1  172.16.0.1-192.168.10.50-60132-21-6  172.16.0.1      60132.0   \n",
       "\n",
       "  Destination IP  Destination Port  Protocol       Timestamp  Flow Duration  \\\n",
       "0  192.168.10.50              80.0       6.0  4/7/2017 10:30      5216127.0   \n",
       "1  192.168.10.50              21.0       6.0  4/7/2017 10:20           20.0   \n",
       "\n",
       "   Total Fwd Packets  Total Backward Packets     ...       \\\n",
       "0                3.0                     1.0     ...        \n",
       "1                1.0                     1.0     ...        \n",
       "\n",
       "   min_seg_size_forward  Active Mean  Active Std  Active Max  Active Min  \\\n",
       "0                  32.0          0.0         0.0         0.0         0.0   \n",
       "1                  32.0          0.0         0.0         0.0         0.0   \n",
       "\n",
       "   Idle Mean  Idle Std  Idle Max  Idle Min        Label  \n",
       "0        0.0       0.0       0.0       0.0  FTP-Patator  \n",
       "1        0.0       0.0       0.0       0.0  FTP-Patator  \n",
       "\n",
       "[2 rows x 85 columns]"
      ]
     },
     "execution_count": 76,
     "metadata": {},
     "output_type": "execute_result"
    }
   ],
   "source": [
    "attakDF.head(2)"
   ]
  },
  {
   "cell_type": "markdown",
   "metadata": {},
   "source": [
    "def transform(x):\n",
    "    if x in ['Web Attack-Sql Injection','Web Attack-Brute Force','Web Attack-XSS']:\n",
    "        return 'Web-Attack'\n",
    "    else:\n",
    "        return x\n",
    "\n",
    "attakDF['Label']=attakDF['Label'].map(lambda x : transform(x))"
   ]
  },
  {
   "cell_type": "code",
   "execution_count": 100,
   "metadata": {},
   "outputs": [],
   "source": [
    "#attakDF['Label'] = attakDF['Label'].apply(lambda x: x.cat.codes)\n",
    "attakDF['nLabel'] = attakDF['Label'].astype('category')"
   ]
  },
  {
   "cell_type": "code",
   "execution_count": 101,
   "metadata": {},
   "outputs": [],
   "source": [
    "attakDF['Label'] = attakDF['nLabel'].cat.codes"
   ]
  },
  {
   "cell_type": "code",
   "execution_count": 102,
   "metadata": {
    "collapsed": true
   },
   "outputs": [
    {
     "data": {
      "text/plain": [
       "0         6\n",
       "1         6\n",
       "2         6\n",
       "3         6\n",
       "4         6\n",
       "5         6\n",
       "6         6\n",
       "7         6\n",
       "8         6\n",
       "9         6\n",
       "10        6\n",
       "11        6\n",
       "12        6\n",
       "13        6\n",
       "14        6\n",
       "15        6\n",
       "16        6\n",
       "17        6\n",
       "18        6\n",
       "19        6\n",
       "20        6\n",
       "21        6\n",
       "22        6\n",
       "23        6\n",
       "24        6\n",
       "25        6\n",
       "26        6\n",
       "27        6\n",
       "28        6\n",
       "29        6\n",
       "         ..\n",
       "471424    0\n",
       "471425    0\n",
       "471426    0\n",
       "471427    0\n",
       "471428    0\n",
       "471429    0\n",
       "471430    0\n",
       "471431    0\n",
       "471432    0\n",
       "471433    0\n",
       "471434    0\n",
       "471435    0\n",
       "471436    0\n",
       "471437    0\n",
       "471438    0\n",
       "471439    0\n",
       "471440    0\n",
       "471441    0\n",
       "471442    0\n",
       "471443    0\n",
       "471444    0\n",
       "471445    0\n",
       "471446    0\n",
       "471447    0\n",
       "471448    0\n",
       "471449    0\n",
       "471450    0\n",
       "471451    0\n",
       "471452    0\n",
       "471453    0\n",
       "Name: Label, Length: 471454, dtype: int8"
      ]
     },
     "execution_count": 102,
     "metadata": {},
     "output_type": "execute_result"
    }
   ],
   "source": [
    "attakDF['Label']"
   ]
  },
  {
   "cell_type": "code",
   "execution_count": null,
   "metadata": {},
   "outputs": [],
   "source": []
  },
  {
   "cell_type": "markdown",
   "metadata": {},
   "source": [
    "nDF = pd.concat([attakDF,pd.get_dummies(attakDF['Label'])],axis=1)"
   ]
  },
  {
   "cell_type": "code",
   "execution_count": 103,
   "metadata": {},
   "outputs": [],
   "source": [
    "y = attakDF['Label'].values"
   ]
  },
  {
   "cell_type": "code",
   "execution_count": 104,
   "metadata": {},
   "outputs": [
    {
     "data": {
      "text/plain": [
       "array([6, 6, 6, ..., 0, 0, 0], dtype=int8)"
      ]
     },
     "execution_count": 104,
     "metadata": {},
     "output_type": "execute_result"
    }
   ],
   "source": [
    "y"
   ]
  },
  {
   "cell_type": "code",
   "execution_count": 81,
   "metadata": {},
   "outputs": [],
   "source": [
    "x = attakDF.loc[:,:'Idle Min']"
   ]
  },
  {
   "cell_type": "code",
   "execution_count": 82,
   "metadata": {},
   "outputs": [
    {
     "data": {
      "text/plain": [
       "(471454, 84)"
      ]
     },
     "execution_count": 82,
     "metadata": {},
     "output_type": "execute_result"
    }
   ],
   "source": [
    "x.shape"
   ]
  },
  {
   "cell_type": "code",
   "execution_count": 83,
   "metadata": {},
   "outputs": [],
   "source": [
    "g = x.columns.to_series().groupby(x.dtypes).groups"
   ]
  },
  {
   "cell_type": "code",
   "execution_count": 84,
   "metadata": {},
   "outputs": [],
   "source": [
    "cl = list(g[list(g.keys())[1]])"
   ]
  },
  {
   "cell_type": "code",
   "execution_count": 85,
   "metadata": {},
   "outputs": [
    {
     "data": {
      "text/plain": [
       "['Flow ID',\n",
       " 'Source IP',\n",
       " 'Destination IP',\n",
       " 'Timestamp',\n",
       " 'Flow Bytes/s',\n",
       " 'Flow Packets/s']"
      ]
     },
     "execution_count": 85,
     "metadata": {},
     "output_type": "execute_result"
    }
   ],
   "source": [
    "cl"
   ]
  },
  {
   "cell_type": "code",
   "execution_count": 86,
   "metadata": {},
   "outputs": [],
   "source": [
    "x.drop(columns=cl,axis=1,inplace=True)"
   ]
  },
  {
   "cell_type": "code",
   "execution_count": 87,
   "metadata": {},
   "outputs": [
    {
     "data": {
      "text/plain": [
       "(471454, 78)"
      ]
     },
     "execution_count": 87,
     "metadata": {},
     "output_type": "execute_result"
    }
   ],
   "source": [
    "x.shape"
   ]
  },
  {
   "cell_type": "code",
   "execution_count": 88,
   "metadata": {},
   "outputs": [
    {
     "data": {
      "text/plain": [
       "[]"
      ]
     },
     "execution_count": 88,
     "metadata": {},
     "output_type": "execute_result"
    }
   ],
   "source": [
    "x.columns[x.isna().any()].tolist()"
   ]
  },
  {
   "cell_type": "code",
   "execution_count": 80,
   "metadata": {},
   "outputs": [],
   "source": [
    "#[x['Flow Bytes/s'].isna() ==True]\n",
    "dd = x[pd.isnull(x).any(axis=1)]"
   ]
  },
  {
   "cell_type": "code",
   "execution_count": 89,
   "metadata": {
    "collapsed": true
   },
   "outputs": [
    {
     "data": {
      "text/plain": [
       "Index(['Source Port', 'Destination Port', 'Protocol', 'Flow Duration',\n",
       "       'Total Fwd Packets', 'Total Backward Packets',\n",
       "       'Total Length of Fwd Packets', 'Total Length of Bwd Packets',\n",
       "       'Fwd Packet Length Max', 'Fwd Packet Length Min',\n",
       "       'Fwd Packet Length Mean', 'Fwd Packet Length Std',\n",
       "       'Bwd Packet Length Max', 'Bwd Packet Length Min',\n",
       "       'Bwd Packet Length Mean', 'Bwd Packet Length Std', 'Flow IAT Mean',\n",
       "       'Flow IAT Std', 'Flow IAT Max', 'Flow IAT Min', 'Fwd IAT Total',\n",
       "       'Fwd IAT Mean', 'Fwd IAT Std', 'Fwd IAT Max', 'Fwd IAT Min',\n",
       "       'Bwd IAT Total', 'Bwd IAT Mean', 'Bwd IAT Std', 'Bwd IAT Max',\n",
       "       'Bwd IAT Min', 'Fwd PSH Flags', 'Bwd PSH Flags', 'Fwd URG Flags',\n",
       "       'Bwd URG Flags', 'Fwd Header Length40', 'Bwd Header Length',\n",
       "       'Fwd Packets/s', 'Bwd Packets/s', 'Min Packet Length',\n",
       "       'Max Packet Length', 'Packet Length Mean', 'Packet Length Std',\n",
       "       'Packet Length Variance', 'FIN Flag Count', 'SYN Flag Count',\n",
       "       'RST Flag Count', 'PSH Flag Count', 'ACK Flag Count', 'URG Flag Count',\n",
       "       'CWE Flag Count', 'ECE Flag Count', 'Down/Up Ratio',\n",
       "       'Average Packet Size', 'Avg Fwd Segment Size', 'Avg Bwd Segment Size',\n",
       "       'Fwd Header Length61', 'Fwd Avg Bytes/Bulk', 'Fwd Avg Packets/Bulk',\n",
       "       'Fwd Avg Bulk Rate', 'Bwd Avg Bytes/Bulk', 'Bwd Avg Packets/Bulk',\n",
       "       'Bwd Avg Bulk Rate', 'Subflow Fwd Packets', 'Subflow Fwd Bytes',\n",
       "       'Subflow Bwd Packets', 'Subflow Bwd Bytes', 'Init_Win_bytes_forward',\n",
       "       'Init_Win_bytes_backward', 'act_data_pkt_fwd', 'min_seg_size_forward',\n",
       "       'Active Mean', 'Active Std', 'Active Max', 'Active Min', 'Idle Mean',\n",
       "       'Idle Std', 'Idle Max', 'Idle Min'],\n",
       "      dtype='object')"
      ]
     },
     "execution_count": 89,
     "metadata": {},
     "output_type": "execute_result"
    }
   ],
   "source": [
    "x.columns"
   ]
  },
  {
   "cell_type": "code",
   "execution_count": 90,
   "metadata": {},
   "outputs": [],
   "source": [
    "x.drop(columns=['Source Port','Destination Port'],inplace=True)"
   ]
  },
  {
   "cell_type": "code",
   "execution_count": 91,
   "metadata": {
    "collapsed": true
   },
   "outputs": [
    {
     "data": {
      "text/plain": [
       "Protocol                       float64\n",
       "Flow Duration                  float64\n",
       "Total Fwd Packets              float64\n",
       "Total Backward Packets         float64\n",
       "Total Length of Fwd Packets    float64\n",
       "Total Length of Bwd Packets    float64\n",
       "Fwd Packet Length Max          float64\n",
       "Fwd Packet Length Min          float64\n",
       "Fwd Packet Length Mean         float64\n",
       "Fwd Packet Length Std          float64\n",
       "Bwd Packet Length Max          float64\n",
       "Bwd Packet Length Min          float64\n",
       "Bwd Packet Length Mean         float64\n",
       "Bwd Packet Length Std          float64\n",
       "Flow IAT Mean                  float64\n",
       "Flow IAT Std                   float64\n",
       "Flow IAT Max                   float64\n",
       "Flow IAT Min                   float64\n",
       "Fwd IAT Total                  float64\n",
       "Fwd IAT Mean                   float64\n",
       "Fwd IAT Std                    float64\n",
       "Fwd IAT Max                    float64\n",
       "Fwd IAT Min                    float64\n",
       "Bwd IAT Total                  float64\n",
       "Bwd IAT Mean                   float64\n",
       "Bwd IAT Std                    float64\n",
       "Bwd IAT Max                    float64\n",
       "Bwd IAT Min                    float64\n",
       "Fwd PSH Flags                  float64\n",
       "Bwd PSH Flags                  float64\n",
       "                                ...   \n",
       "URG Flag Count                 float64\n",
       "CWE Flag Count                 float64\n",
       "ECE Flag Count                 float64\n",
       "Down/Up Ratio                  float64\n",
       "Average Packet Size            float64\n",
       "Avg Fwd Segment Size           float64\n",
       "Avg Bwd Segment Size           float64\n",
       "Fwd Header Length61            float64\n",
       "Fwd Avg Bytes/Bulk             float64\n",
       "Fwd Avg Packets/Bulk           float64\n",
       "Fwd Avg Bulk Rate              float64\n",
       "Bwd Avg Bytes/Bulk             float64\n",
       "Bwd Avg Packets/Bulk           float64\n",
       "Bwd Avg Bulk Rate              float64\n",
       "Subflow Fwd Packets            float64\n",
       "Subflow Fwd Bytes              float64\n",
       "Subflow Bwd Packets            float64\n",
       "Subflow Bwd Bytes              float64\n",
       "Init_Win_bytes_forward         float64\n",
       "Init_Win_bytes_backward        float64\n",
       "act_data_pkt_fwd               float64\n",
       "min_seg_size_forward           float64\n",
       "Active Mean                    float64\n",
       "Active Std                     float64\n",
       "Active Max                     float64\n",
       "Active Min                     float64\n",
       "Idle Mean                      float64\n",
       "Idle Std                       float64\n",
       "Idle Max                       float64\n",
       "Idle Min                       float64\n",
       "Length: 76, dtype: object"
      ]
     },
     "execution_count": 91,
     "metadata": {},
     "output_type": "execute_result"
    }
   ],
   "source": [
    "x.dtypes"
   ]
  },
  {
   "cell_type": "code",
   "execution_count": null,
   "metadata": {},
   "outputs": [],
   "source": []
  },
  {
   "cell_type": "markdown",
   "metadata": {},
   "source": [
    "chi2_selector = SelectKBest(mutual_info_classif, k=75).fit_transform(x.values, y)\n"
   ]
  },
  {
   "cell_type": "code",
   "execution_count": 25,
   "metadata": {},
   "outputs": [],
   "source": [
    "score = mutual_info_classif(x.values, y)"
   ]
  },
  {
   "cell_type": "code",
   "execution_count": 55,
   "metadata": {},
   "outputs": [],
   "source": [
    "sci = score"
   ]
  },
  {
   "cell_type": "code",
   "execution_count": 56,
   "metadata": {},
   "outputs": [],
   "source": [
    "listCol = []\n",
    "for s, fname in sorted(zip(list(sci), list(x.columns)), reverse=True):\n",
    "    #print('\\''+fname+'\\''+' : '+str(s)+',')\n",
    "    if s >= 0.50:\n",
    "        listCol.append(fname)\n",
    "        #print('\\''+fname+'\\''+' : '+str(s)+',')"
   ]
  },
  {
   "cell_type": "code",
   "execution_count": 57,
   "metadata": {
    "collapsed": true
   },
   "outputs": [
    {
     "data": {
      "text/plain": [
       "['Average Packet Size',\n",
       " 'Packet Length Mean',\n",
       " 'Flow IAT Max',\n",
       " 'Fwd IAT Max',\n",
       " 'Flow Duration',\n",
       " 'Fwd Header Length40',\n",
       " 'Fwd Header Length61',\n",
       " 'Packet Length Std',\n",
       " 'Packet Length Variance',\n",
       " 'Fwd Packets/s',\n",
       " 'Fwd IAT Total',\n",
       " 'Fwd IAT Mean',\n",
       " 'Flow IAT Mean',\n",
       " 'Subflow Bwd Bytes',\n",
       " 'Total Length of Bwd Packets',\n",
       " 'Avg Bwd Segment Size',\n",
       " 'Bwd Packet Length Mean',\n",
       " 'Bwd Header Length',\n",
       " 'Init_Win_bytes_forward',\n",
       " 'Bwd Packets/s',\n",
       " 'Init_Win_bytes_backward',\n",
       " 'Max Packet Length',\n",
       " 'Bwd Packet Length Max',\n",
       " 'Subflow Fwd Bytes',\n",
       " 'Total Length of Fwd Packets',\n",
       " 'Fwd Packet Length Max',\n",
       " 'Avg Fwd Segment Size',\n",
       " 'Fwd Packet Length Mean',\n",
       " 'Destination Port',\n",
       " 'Subflow Fwd Packets',\n",
       " 'Total Fwd Packets',\n",
       " 'min_seg_size_forward',\n",
       " 'Total Backward Packets',\n",
       " 'Subflow Bwd Packets',\n",
       " 'Flow IAT Std',\n",
       " 'Fwd IAT Std',\n",
       " 'Fwd IAT Min',\n",
       " 'Bwd Packet Length Min',\n",
       " 'Fwd Packet Length Std',\n",
       " 'Bwd Packet Length Std',\n",
       " 'Bwd IAT Max',\n",
       " 'Bwd IAT Total',\n",
       " 'Bwd IAT Mean',\n",
       " 'Flow IAT Min',\n",
       " 'Bwd IAT Std',\n",
       " 'act_data_pkt_fwd']"
      ]
     },
     "execution_count": 57,
     "metadata": {},
     "output_type": "execute_result"
    }
   ],
   "source": [
    "listCol"
   ]
  },
  {
   "cell_type": "code",
   "execution_count": 37,
   "metadata": {},
   "outputs": [],
   "source": [
    "coldict ={'Average Packet Size' : 1.12228619202,\n",
    "'Packet Length Mean' : 1.12105720318,\n",
    "'Flow IAT Max' : 1.06209483168,\n",
    "'Fwd IAT Max' : 1.06019347992,\n",
    "'Flow Duration' : 1.04972404971,\n",
    "'Fwd Header Length61' : 1.04857598285,\n",
    "'Fwd Header Length40' : 1.04841398649,\n",
    "'Packet Length Std' : 1.04641207625,\n",
    "'Packet Length Variance' : 1.04138282523,\n",
    "'Fwd Packets/s' : 1.03779256595,\n",
    "'Fwd IAT Total' : 1.0259476596,\n",
    "'Fwd IAT Mean' : 1.02196584518,\n",
    "'Flow IAT Mean' : 1.01403001737,\n",
    "'Subflow Bwd Bytes' : 0.998101072736,\n",
    "'Total Length of Bwd Packets' : 0.998053004545,\n",
    "'Bwd Packet Length Mean' : 0.990308606923,\n",
    "'Avg Bwd Segment Size' : 0.990070048419,\n",
    "'Bwd Header Length' : 0.981635182935,\n",
    "'Init_Win_bytes_forward' : 0.969700986496,\n",
    "'Bwd Packets/s' : 0.963336701102,\n",
    "'Init_Win_bytes_backward' : 0.944082693467,\n",
    "'Max Packet Length' : 0.942146686916,\n",
    "'Bwd Packet Length Max' : 0.936824629498,\n",
    "'Subflow Fwd Bytes' : 0.871773774481,\n",
    "'Total Length of Fwd Packets' : 0.871545527836,\n",
    "'Fwd Packet Length Max' : 0.841808657921,\n",
    "'Avg Fwd Segment Size' : 0.816241131439,\n",
    "'Fwd Packet Length Mean' : 0.815282344372,\n",
    "'Destination Port' : 0.793555024621,\n",
    "'Total Fwd Packets' : 0.791734385304,\n",
    "'Subflow Fwd Packets' : 0.79115869776,\n",
    "'min_seg_size_forward' : 0.767684344803,\n",
    "'Subflow Bwd Packets' : 0.749036061922,\n",
    "'Total Backward Packets' : 0.74894093071,\n",
    "'Flow IAT Std' : 0.743048131593,\n",
    "'Fwd IAT Std' : 0.694530838587,\n",
    "'Fwd IAT Min' : 0.678451302547,\n",
    "'Bwd Packet Length Min' : 0.653435737739,\n",
    "'Fwd Packet Length Std' : 0.635104789724,\n",
    "'Bwd Packet Length Std' : 0.606681467519,\n",
    "'Bwd IAT Max' : 0.575839983842,\n",
    "'Bwd IAT Total' : 0.554314880307,\n",
    "'Bwd IAT Mean' : 0.54513522815,\n",
    "'Flow IAT Min' : 0.528344103,\n",
    "'Bwd IAT Std' : 0.52619768141,\n",
    "'act_data_pkt_fwd' : 0.513422400919,\n",
    "'Idle Mean' : 0.484495650462,\n",
    "'Idle Min' : 0.481122197928,\n",
    "'PSH Flag Count' : 0.476817887372,\n",
    "'Idle Max' : 0.473527412698,\n",
    "'Bwd IAT Min' : 0.425762239455,\n",
    "'Source Port' : 0.423809835743,\n",
    "'Active Max' : 0.37494063974,\n",
    "'Active Mean' : 0.374731280296,\n",
    "'Active Min' : 0.367427863904,\n",
    "'Down/Up Ratio' : 0.316471178923,\n",
    "'Min Packet Length' : 0.305231882997,\n",
    "'Fwd Packet Length Min' : 0.299372434997,\n",
    "'ACK Flag Count' : 0.280492355547,\n",
    "'FIN Flag Count' : 0.100172604459,\n",
    "'Idle Std' : 0.0820356128001,\n",
    "'Fwd PSH Flags' : 0.0491620666019,\n",
    "'SYN Flag Count' : 0.0489682199684,\n",
    "'Protocol' : 0.0385877150205,\n",
    "'URG Flag Count' : 0.0361900829759,\n",
    "'Active Std' : 0.0202799579736,\n",
    "'Fwd Avg Bulk Rate' : 0.00117789466517,\n",
    "'ECE Flag Count' : 0.000436446571419,\n",
    "'Fwd Avg Packets/Bulk' : 0.000329012681616,\n",
    "'RST Flag Count' : 0.0,\n",
    "'Fwd URG Flags' : 0.0,\n",
    "'Fwd Avg Bytes/Bulk' : 0.0,\n",
    "'CWE Flag Count' : 0.0,\n",
    "'Bwd URG Flags' : 0.0,\n",
    "'Bwd PSH Flags' : 0.0,\n",
    "'Bwd Avg Packets/Bulk' : 0.0,\n",
    "'Bwd Avg Bytes/Bulk' : 0.0,\n",
    "'Bwd Avg Bulk Rate' : 0.0}"
   ]
  },
  {
   "cell_type": "code",
   "execution_count": 112,
   "metadata": {},
   "outputs": [],
   "source": [
    "import pickle\n",
    "with open('columnScore.bin','wb') as fout:\n",
    "    pickle.dump(coldict,fout, pickle.HIGHEST_PROTOCOL)"
   ]
  },
  {
   "cell_type": "code",
   "execution_count": 6,
   "metadata": {
    "collapsed": true
   },
   "outputs": [
    {
     "data": {
      "text/plain": [
       "Index(['Flow ID', 'Source IP', 'Source Port', 'Destination IP',\n",
       "       'Destination Port', 'Protocol', 'Timestamp', 'Flow Duration',\n",
       "       'Total Fwd Packets', 'Total Backward Packets',\n",
       "       'Total Length of Fwd Packets', 'Total Length of Bwd Packets',\n",
       "       'Fwd Packet Length Max', 'Fwd Packet Length Min',\n",
       "       'Fwd Packet Length Mean', 'Fwd Packet Length Std',\n",
       "       'Bwd Packet Length Max', 'Bwd Packet Length Min',\n",
       "       'Bwd Packet Length Mean', 'Bwd Packet Length Std', 'Flow Bytes/s',\n",
       "       'Flow Packets/s', 'Flow IAT Mean', 'Flow IAT Std', 'Flow IAT Max',\n",
       "       'Flow IAT Min', 'Fwd IAT Total', 'Fwd IAT Mean', 'Fwd IAT Std',\n",
       "       'Fwd IAT Max', 'Fwd IAT Min', 'Bwd IAT Total', 'Bwd IAT Mean',\n",
       "       'Bwd IAT Std', 'Bwd IAT Max', 'Bwd IAT Min', 'Fwd PSH Flags',\n",
       "       'Bwd PSH Flags', 'Fwd URG Flags', 'Bwd URG Flags',\n",
       "       'Fwd Header Length40', 'Bwd Header Length', 'Fwd Packets/s',\n",
       "       'Bwd Packets/s', 'Min Packet Length', 'Max Packet Length',\n",
       "       'Packet Length Mean', 'Packet Length Std', 'Packet Length Variance',\n",
       "       'FIN Flag Count', 'SYN Flag Count', 'RST Flag Count', 'PSH Flag Count',\n",
       "       'ACK Flag Count', 'URG Flag Count', 'CWE Flag Count', 'ECE Flag Count',\n",
       "       'Down/Up Ratio', 'Average Packet Size', 'Avg Fwd Segment Size',\n",
       "       'Avg Bwd Segment Size', 'Fwd Header Length61', 'Fwd Avg Bytes/Bulk',\n",
       "       'Fwd Avg Packets/Bulk', 'Fwd Avg Bulk Rate', 'Bwd Avg Bytes/Bulk',\n",
       "       'Bwd Avg Packets/Bulk', 'Bwd Avg Bulk Rate', 'Subflow Fwd Packets',\n",
       "       'Subflow Fwd Bytes', 'Subflow Bwd Packets', 'Subflow Bwd Bytes',\n",
       "       'Init_Win_bytes_forward', 'Init_Win_bytes_backward', 'act_data_pkt_fwd',\n",
       "       'min_seg_size_forward', 'Active Mean', 'Active Std', 'Active Max',\n",
       "       'Active Min', 'Idle Mean', 'Idle Std', 'Idle Max', 'Idle Min', 'Label'],\n",
       "      dtype='object')"
      ]
     },
     "execution_count": 6,
     "metadata": {},
     "output_type": "execute_result"
    }
   ],
   "source": [
    "attakDF.columns"
   ]
  },
  {
   "cell_type": "code",
   "execution_count": 38,
   "metadata": {},
   "outputs": [
    {
     "data": {
      "text/plain": [
       "array([ 6, 10,  5,  4,  3,  2,  7, 11, 13, 12,  8,  1,  9,  0])"
      ]
     },
     "execution_count": 38,
     "metadata": {},
     "output_type": "execute_result"
    }
   ],
   "source": [
    "attakDF['Label'].unique()"
   ]
  },
  {
   "cell_type": "code",
   "execution_count": 58,
   "metadata": {},
   "outputs": [],
   "source": [
    "newdf = attakDF[listCol]"
   ]
  },
  {
   "cell_type": "code",
   "execution_count": 59,
   "metadata": {},
   "outputs": [
    {
     "data": {
      "text/plain": [
       "(471454, 46)"
      ]
     },
     "execution_count": 59,
     "metadata": {},
     "output_type": "execute_result"
    }
   ],
   "source": [
    "newdf.shape"
   ]
  },
  {
   "cell_type": "code",
   "execution_count": 60,
   "metadata": {},
   "outputs": [],
   "source": [
    "condf = pd.concat([newdf,attakDF['Label']],axis=1)"
   ]
  },
  {
   "cell_type": "code",
   "execution_count": 61,
   "metadata": {
    "collapsed": true
   },
   "outputs": [
    {
     "data": {
      "text/plain": [
       "Index(['Average Packet Size', 'Packet Length Mean', 'Flow IAT Max',\n",
       "       'Fwd IAT Max', 'Flow Duration', 'Fwd Header Length40',\n",
       "       'Fwd Header Length61', 'Packet Length Std', 'Packet Length Variance',\n",
       "       'Fwd Packets/s', 'Fwd IAT Total', 'Fwd IAT Mean', 'Flow IAT Mean',\n",
       "       'Subflow Bwd Bytes', 'Total Length of Bwd Packets',\n",
       "       'Avg Bwd Segment Size', 'Bwd Packet Length Mean', 'Bwd Header Length',\n",
       "       'Init_Win_bytes_forward', 'Bwd Packets/s', 'Init_Win_bytes_backward',\n",
       "       'Max Packet Length', 'Bwd Packet Length Max', 'Subflow Fwd Bytes',\n",
       "       'Total Length of Fwd Packets', 'Fwd Packet Length Max',\n",
       "       'Avg Fwd Segment Size', 'Fwd Packet Length Mean', 'Destination Port',\n",
       "       'Subflow Fwd Packets', 'Total Fwd Packets', 'min_seg_size_forward',\n",
       "       'Total Backward Packets', 'Subflow Bwd Packets', 'Flow IAT Std',\n",
       "       'Fwd IAT Std', 'Fwd IAT Min', 'Bwd Packet Length Min',\n",
       "       'Fwd Packet Length Std', 'Bwd Packet Length Std', 'Bwd IAT Max',\n",
       "       'Bwd IAT Total', 'Bwd IAT Mean', 'Flow IAT Min', 'Bwd IAT Std',\n",
       "       'act_data_pkt_fwd', 'Label'],\n",
       "      dtype='object')"
      ]
     },
     "execution_count": 61,
     "metadata": {},
     "output_type": "execute_result"
    }
   ],
   "source": [
    "condf.columns"
   ]
  },
  {
   "cell_type": "code",
   "execution_count": 62,
   "metadata": {},
   "outputs": [],
   "source": [
    "condf.to_csv('newfeatureDS.csv',index=False,header=True)"
   ]
  },
  {
   "cell_type": "code",
   "execution_count": null,
   "metadata": {},
   "outputs": [],
   "source": []
  },
  {
   "cell_type": "code",
   "execution_count": null,
   "metadata": {},
   "outputs": [],
   "source": []
  },
  {
   "cell_type": "code",
   "execution_count": null,
   "metadata": {},
   "outputs": [],
   "source": []
  },
  {
   "cell_type": "code",
   "execution_count": 29,
   "metadata": {
    "collapsed": true
   },
   "outputs": [
    {
     "name": "stdout",
     "output_type": "stream",
     "text": [
      "[  8.45812527e-03   1.19491343e-02   1.95108761e-06   2.54882855e-02\n",
      "   5.53847048e-03   8.97943789e-03   1.11531910e-02   7.55109996e-03\n",
      "   1.67764095e-02   3.72930424e-03   1.49450926e-02   6.48231944e-03\n",
      "   5.55749058e-03   1.15401220e-02   5.37331301e-03   1.05872529e-02\n",
      "   6.80194201e-03   3.47849853e-02   2.16727300e-02   5.03801457e-03\n",
      "   4.70015961e-02   2.03731888e-03   6.08966071e-03   1.53496252e-02\n",
      "   4.57781000e-03   3.05968184e-03   4.16860088e-03   1.83684819e-02\n",
      "   6.14939937e-03   1.48711271e-03   5.10672886e-03   0.00000000e+00\n",
      "   0.00000000e+00   0.00000000e+00   2.67448768e-03   4.86242520e-03\n",
      "   1.46362001e-02   2.58530090e-03   7.76289822e-03   6.93191633e-03\n",
      "   1.04925257e-02   2.16542571e-02   6.09594457e-03   1.93582180e-02\n",
      "   1.37835768e-02   0.00000000e+00   1.23739052e-01   1.19713250e-01\n",
      "   4.83490430e-03   0.00000000e+00   0.00000000e+00   4.88601159e-02\n",
      "   2.05128119e-02   2.38285089e-03   3.08037984e-02   3.32100697e-02\n",
      "   0.00000000e+00   0.00000000e+00   0.00000000e+00   0.00000000e+00\n",
      "   0.00000000e+00   0.00000000e+00   5.27083336e-03   4.10584425e-03\n",
      "   4.02075634e-03   1.17490328e-02   1.12100366e-02   6.49174370e-03\n",
      "   1.61084162e-02   4.27740962e-02   7.74729691e-03   3.17168622e-04\n",
      "   3.16244053e-03   4.15760515e-03   1.07082372e-02   9.10618776e-03\n",
      "   1.32135458e-03   3.10496575e-02]\n"
     ]
    }
   ],
   "source": [
    "from sklearn import datasets\n",
    "from sklearn import metrics\n",
    "from sklearn.ensemble import ExtraTreesClassifier\n",
    "# load the iris datasets\n",
    "\n",
    "# fit an Extra Trees model to the data\n",
    "model = ExtraTreesClassifier()\n",
    "model.fit(x.values, y)\n",
    "# display the relative importance of each attribute\n",
    "print(model.feature_importances_)"
   ]
  },
  {
   "cell_type": "code",
   "execution_count": 49,
   "metadata": {},
   "outputs": [
    {
     "data": {
      "text/plain": [
       "78"
      ]
     },
     "execution_count": 49,
     "metadata": {},
     "output_type": "execute_result"
    }
   ],
   "source": [
    "len(model.feature_importances_)"
   ]
  },
  {
   "cell_type": "code",
   "execution_count": 71,
   "metadata": {},
   "outputs": [
    {
     "name": "stdout",
     "output_type": "stream",
     "text": [
      "PSH Flag Count 0.123739052115\n",
      "ACK Flag Count 0.119713250403\n",
      "Down/Up Ratio 0.0488601158574\n",
      "Fwd IAT Total 0.0470015961223\n",
      "min_seg_size_forward 0.0427740961886\n",
      "Flow IAT Std 0.0347849853207\n",
      "Fwd Header Length61 0.0332100696906\n",
      "Idle Min 0.0310496575149\n",
      "Avg Bwd Segment Size 0.0308037984214\n",
      "Flow Duration 0.0254882855178\n",
      "Flow IAT Max 0.0216727300292\n",
      "Packet Length Std 0.0216542571097\n",
      "Average Packet Size 0.0205128118928\n",
      "FIN Flag Count 0.0193582179863\n",
      "Bwd IAT Std 0.0183684819332\n",
      "Fwd Packet Length Max 0.0167764095216\n",
      "act_data_pkt_fwd 0.0161084161783\n",
      "Fwd IAT Max 0.0153496251598\n",
      "Fwd Packet Length Mean 0.0149450926114\n",
      "Fwd Packets/s 0.0146362000509\n",
      "SYN Flag Count 0.0137835767789\n",
      "Destination Port 0.0119491342533\n",
      "Subflow Bwd Bytes 0.0117490328474\n",
      "Bwd Packet Length Min 0.011540122019\n",
      "Init_Win_bytes_forward 0.0112100365717\n",
      "Total Length of Fwd Packets 0.0111531910429\n",
      "Idle Mean 0.0107082371808\n",
      "Bwd Packet Length Std 0.0105872528912\n",
      "Packet Length Mean 0.0104925256957\n",
      "Idle Std 0.0091061877585\n",
      "Total Backward Packets 0.00897943789192\n",
      "Source Port 0.00845812527293\n",
      "Min Packet Length 0.00776289822385\n",
      "Active Mean 0.00774729691245\n",
      "Total Length of Bwd Packets 0.00755109995718\n",
      "Max Packet Length 0.00693191632602\n",
      "Flow IAT Mean 0.00680194200927\n",
      "Init_Win_bytes_backward 0.00649174370206\n",
      "Fwd Packet Length Std 0.00648231944295\n",
      "Bwd IAT Max 0.00614939936701\n",
      "Packet Length Variance 0.0060959445723\n",
      "Fwd IAT Std 0.00608966071396\n",
      "Bwd Packet Length Max 0.00555749058348\n",
      "Total Fwd Packets 0.00553847047737\n",
      "Bwd Packet Length Mean 0.00537331300878\n",
      "Subflow Fwd Packets 0.00527083336047\n",
      "Fwd PSH Flags 0.00510672885857\n",
      "Flow IAT Min 0.00503801457002\n",
      "Bwd Header Length 0.00486242519966\n",
      "URG Flag Count 0.00483490429566\n",
      "Fwd IAT Min 0.00457781000464\n",
      "Bwd IAT Mean 0.00416860088289\n",
      "Active Min 0.0041576051543\n",
      "Subflow Fwd Bytes 0.0041058442457\n",
      "Subflow Bwd Packets 0.00402075634062\n",
      "Fwd Packet Length Min 0.0037293042449\n",
      "Active Max 0.00316244052932\n",
      "Bwd IAT Total 0.003059681844\n",
      "Fwd Header Length40 0.00267448768326\n",
      "Bwd Packets/s 0.00258530089561\n",
      "Avg Fwd Segment Size 0.00238285088977\n",
      "Fwd IAT Mean 0.00203731887757\n",
      "Bwd IAT Min 0.00148711270689\n",
      "Idle Max 0.0013213545805\n",
      "Active Std 0.000317168622101\n",
      "Protocol 1.95108761209e-06\n",
      "RST Flag Count 0.0\n",
      "Fwd URG Flags 0.0\n",
      "Fwd Avg Packets/Bulk 0.0\n",
      "Fwd Avg Bytes/Bulk 0.0\n",
      "Fwd Avg Bulk Rate 0.0\n",
      "ECE Flag Count 0.0\n",
      "CWE Flag Count 0.0\n",
      "Bwd URG Flags 0.0\n",
      "Bwd PSH Flags 0.0\n",
      "Bwd Avg Packets/Bulk 0.0\n",
      "Bwd Avg Bytes/Bulk 0.0\n",
      "Bwd Avg Bulk Rate 0.0\n"
     ]
    }
   ],
   "source": [
    "for sc, f in sorted(zip(list(model.feature_importances_), list(x.columns)), reverse=True): \n",
    "    print(f,sc)"
   ]
  },
  {
   "cell_type": "code",
   "execution_count": 64,
   "metadata": {},
   "outputs": [],
   "source": [
    "import pickle"
   ]
  },
  {
   "cell_type": "code",
   "execution_count": 66,
   "metadata": {},
   "outputs": [],
   "source": [
    "with open('labelDict.bin','rb') as fout:\n",
    "    dd = pickle.load(fout)\n",
    "\n",
    "dd\n",
    "\n",
    "featureList =[x for sublist in list(dd.values())  for x in sublist]\n",
    "\n",
    "set(featureList)"
   ]
  },
  {
   "cell_type": "markdown",
   "metadata": {},
   "source": [
    "# PCA"
   ]
  },
  {
   "cell_type": "code",
   "execution_count": 94,
   "metadata": {},
   "outputs": [],
   "source": [
    "from sklearn.decomposition import PCA"
   ]
  },
  {
   "cell_type": "code",
   "execution_count": 96,
   "metadata": {
    "collapsed": true
   },
   "outputs": [
    {
     "name": "stdout",
     "output_type": "stream",
     "text": [
      "Explained Variance:[ 0.88469068  0.08567186  0.01422015  0.00898107  0.00274544]\n",
      "[[ -1.43440814e-13   3.68529368e-01   1.89690494e-08   1.71396115e-08\n",
      "    1.35243577e-06   3.87268428e-05   1.12073804e-06  -1.18472762e-08\n",
      "    1.80321060e-07   4.48295229e-07   1.98574242e-05  -1.29313847e-08\n",
      "    6.26788888e-06   8.08742902e-06   3.39327780e-02   1.06349178e-01\n",
      "    3.64689652e-01   1.71874308e-03   3.68780029e-01   7.08312586e-02\n",
      "    1.49402280e-01   3.64896402e-01   6.74941823e-03   1.29949155e-01\n",
      "    2.79576889e-02   5.32796275e-02   1.29840211e-01   4.78232633e-03\n",
      "   -3.24723372e-11  -0.00000000e+00  -0.00000000e+00  -0.00000000e+00\n",
      "    5.82321284e-07   5.97034221e-07  -6.23028638e-04  -6.83766956e-05\n",
      "   -4.29816194e-09   1.98658943e-05   2.68955122e-06   5.82877682e-06\n",
      "    1.06478572e-02   1.30947013e-09  -3.24723372e-11  -0.00000000e+00\n",
      "   -2.56745524e-09   1.25257790e-09  -6.17673459e-11  -0.00000000e+00\n",
      "   -0.00000000e+00  -1.09634411e-09   2.87456115e-06   1.80321060e-07\n",
      "    6.26788888e-06   5.82321284e-07  -0.00000000e+00  -0.00000000e+00\n",
      "   -0.00000000e+00  -0.00000000e+00  -0.00000000e+00  -0.00000000e+00\n",
      "    1.89690494e-08   1.35243577e-06   1.71396115e-08   3.87268428e-05\n",
      "   -4.19447904e-05  -2.33361694e-07   6.54912883e-09  -2.10732489e-08\n",
      "    4.27900827e-04   1.30856966e-04   5.20284214e-04   3.33905217e-04\n",
      "    3.57839919e-01   1.02102626e-02   3.65527805e-01   3.50605469e-01]\n",
      " [ -4.03012111e-13  -6.77816187e-02  -5.66948908e-09   9.97123599e-09\n",
      "    2.50826482e-06  -5.13397842e-06   2.44175486e-08   2.94070354e-09\n",
      "    1.54462565e-07   1.03992474e-07  -7.59473524e-06   2.40064759e-09\n",
      "   -4.37774022e-06  -3.93768802e-06  -6.09921067e-03  -1.24599442e-02\n",
      "   -7.98209521e-02  -6.17002582e-03  -6.81997736e-02   2.53646227e-02\n",
      "   -8.40776709e-04  -8.00577403e-02   9.56579501e-03   6.63828044e-01\n",
      "    1.48035402e-01   2.67533979e-01   6.51717564e-01   2.95057141e-02\n",
      "    1.76205225e-10   0.00000000e+00   0.00000000e+00   0.00000000e+00\n",
      "   -3.25925798e-07   3.08666785e-07   1.16572937e-04   1.27929861e-05\n",
      "    1.16813204e-10  -7.43209391e-06  -6.63612063e-07  -1.96912086e-06\n",
      "   -3.86857977e-03   5.86408634e-09   1.76205225e-10   0.00000000e+00\n",
      "    1.17431192e-09  -7.03713371e-09   1.13006838e-11   0.00000000e+00\n",
      "    0.00000000e+00   4.85205513e-09  -6.96055243e-07   1.54462565e-07\n",
      "   -4.37774022e-06  -3.25925798e-07   0.00000000e+00   0.00000000e+00\n",
      "    0.00000000e+00   0.00000000e+00   0.00000000e+00   0.00000000e+00\n",
      "   -5.66948908e-09   2.50826482e-06   9.97123599e-09  -5.13397842e-06\n",
      "    2.57493650e-05   5.11519611e-07   1.17859613e-08  -4.04336436e-08\n",
      "    5.89883753e-05   1.63065732e-03   1.21107177e-03  -1.10760852e-03\n",
      "   -7.71188012e-02  -1.13614389e-02  -7.99277878e-02  -6.89897799e-02]\n",
      " [ -1.21391127e-11   3.10265273e-01   8.22072304e-08   3.63410676e-08\n",
      "    1.28278973e-05   4.73856844e-05  -1.31166688e-06  -2.52216207e-09\n",
      "   -1.85647448e-08  -5.68019155e-07   1.69732157e-06  -1.19156734e-08\n",
      "    4.92852603e-07   2.41459979e-06   4.28580221e-02   3.88694691e-02\n",
      "    9.51463434e-02   4.02588502e-03   3.06884429e-01   3.94605106e-02\n",
      "   -1.64833713e-02   9.51337578e-02   3.43550954e-02   2.09924774e-02\n",
      "    6.95215371e-02  -2.39800376e-02  -3.00419410e-02   6.77788540e-02\n",
      "    2.98036603e-10  -0.00000000e+00  -0.00000000e+00  -0.00000000e+00\n",
      "    2.11420003e-06   6.75340838e-07  -5.84735499e-04  -6.41417673e-05\n",
      "    3.57605322e-09   2.09300623e-06  -9.17598339e-07   2.09696880e-07\n",
      "    3.75878385e-03  -2.07116926e-09   2.98036603e-10  -0.00000000e+00\n",
      "    9.60593598e-10   1.10416490e-09  -3.49966002e-11  -0.00000000e+00\n",
      "   -0.00000000e+00  -4.96366158e-09  -1.02868623e-06  -1.85647448e-08\n",
      "    4.92852603e-07   2.11420003e-06  -0.00000000e+00  -0.00000000e+00\n",
      "   -0.00000000e+00  -0.00000000e+00  -0.00000000e+00  -0.00000000e+00\n",
      "    8.22072303e-08   1.28278973e-05   3.63410676e-08   4.73856844e-05\n",
      "    5.79005989e-05   5.90275721e-06   6.29593410e-08  -1.15394498e-08\n",
      "    1.35935223e-02   8.15363789e-03   1.93467103e-02   7.69868450e-03\n",
      "   -3.01883151e-01   4.95884429e-01   8.13634145e-02  -6.55272161e-01]\n",
      " [ -5.29487962e-13  -1.87406898e-02  -3.90741143e-08  -4.43801324e-08\n",
      "   -3.22118269e-06  -9.08795027e-05  -1.66963079e-06   4.00705952e-08\n",
      "   -1.44922990e-07  -5.84895693e-07  -4.34533201e-05   4.28280952e-09\n",
      "   -1.32865888e-05  -1.78849325e-05   2.90464827e-01   7.70294622e-02\n",
      "   -1.76697845e-02   1.86357146e-01  -1.72423419e-02   4.90238550e-01\n",
      "   -2.49415203e-01  -1.78966027e-02   5.94181302e-01  -1.99357936e-02\n",
      "    2.73823831e-01  -1.41750113e-01  -2.72599719e-02   3.29098726e-01\n",
      "    3.21224459e-09  -0.00000000e+00  -0.00000000e+00  -0.00000000e+00\n",
      "   -1.02260601e-06  -1.37739383e-06  -8.18396010e-05  -9.00894690e-06\n",
      "    1.87226035e-08  -4.30245142e-05  -5.74601865e-06  -1.26978932e-05\n",
      "   -2.49093723e-02  -3.69346672e-09   3.21224459e-09  -0.00000000e+00\n",
      "    3.95512461e-10   3.29656586e-09   5.36443993e-11  -0.00000000e+00\n",
      "   -0.00000000e+00  -7.25250017e-10  -6.15110602e-06  -1.44922990e-07\n",
      "   -1.32865888e-05  -1.02260601e-06  -0.00000000e+00  -0.00000000e+00\n",
      "   -0.00000000e+00  -0.00000000e+00  -0.00000000e+00  -0.00000000e+00\n",
      "   -3.90741142e-08  -3.22118269e-06  -4.43801323e-08  -9.08795027e-05\n",
      "    1.54878956e-05   3.08760906e-06  -1.92072246e-08   6.75779466e-08\n",
      "    1.50659366e-03   1.69230744e-03   2.69632132e-03   2.74451815e-04\n",
      "    9.94940670e-03  -8.12648246e-02  -4.15122790e-02   6.71946881e-02]\n",
      " [  2.01204487e-11  -1.23110481e-01  -1.75573294e-07  -1.00901889e-07\n",
      "   -3.51931783e-05  -1.19706324e-04  -1.37502596e-06   1.91292781e-08\n",
      "   -5.76994499e-07  -3.12662200e-07   8.83859106e-06   1.97300668e-09\n",
      "    6.28930810e-07   3.30625847e-06   3.46827101e-01  -1.45912463e-01\n",
      "    7.80462170e-02   4.25668385e-01  -1.20406954e-01   2.07405510e-01\n",
      "    6.48933556e-02   7.94836654e-02   1.51748264e-01  -4.41435954e-02\n",
      "   -4.67156795e-01   1.99046912e-01   8.69250708e-02  -5.14704346e-01\n",
      "   -2.75666619e-09   0.00000000e+00   0.00000000e+00   0.00000000e+00\n",
      "   -5.55744748e-06  -2.83596205e-06   1.91927234e-05   2.14239749e-06\n",
      "    4.40349765e-08   7.98369938e-06   1.27870164e-06   2.92232468e-06\n",
      "    8.95079883e-03   8.44948507e-09  -2.75666619e-09   0.00000000e+00\n",
      "   -5.86475921e-09  -2.58181691e-09   1.47783670e-10   0.00000000e+00\n",
      "    0.00000000e+00   3.07658649e-09   1.49673338e-06  -5.76994499e-07\n",
      "    6.28930810e-07  -5.55744748e-06   0.00000000e+00   0.00000000e+00\n",
      "    0.00000000e+00   0.00000000e+00   0.00000000e+00   0.00000000e+00\n",
      "   -1.75573294e-07  -3.51931783e-05  -1.00901889e-07  -1.19706324e-04\n",
      "   -1.69954123e-04  -2.18775289e-05  -8.67325974e-08  -9.54790727e-08\n",
      "   -2.04918934e-02  -2.16622768e-02  -3.57601899e-02  -4.77558571e-03\n",
      "    3.02165752e-02   1.44638174e-01   5.93947095e-02  -7.06828598e-02]]\n"
     ]
    }
   ],
   "source": [
    "\n",
    "#X = x[:,'Protocol':]\n",
    "#Y = attakDF.loc[:,'Label']\n",
    "# feature extraction\n",
    "pca = PCA(n_components=5)\n",
    "fit = pca.fit(x.values)\n",
    "# summarize components\n",
    "print(\"Explained Variance:\"+ str(fit.explained_variance_ratio_))\n",
    "print(fit.components_)\n"
   ]
  },
  {
   "cell_type": "code",
   "execution_count": 97,
   "metadata": {},
   "outputs": [
    {
     "data": {
      "text/plain": [
       "(5, 76)"
      ]
     },
     "execution_count": 97,
     "metadata": {},
     "output_type": "execute_result"
    }
   ],
   "source": [
    "fit.components_.shape"
   ]
  },
  {
   "cell_type": "markdown",
   "metadata": {},
   "source": [
    "# RFE"
   ]
  },
  {
   "cell_type": "code",
   "execution_count": 98,
   "metadata": {},
   "outputs": [],
   "source": [
    "from sklearn.feature_selection import RFE\n",
    "from sklearn.linear_model import LogisticRegression"
   ]
  },
  {
   "cell_type": "code",
   "execution_count": 106,
   "metadata": {},
   "outputs": [
    {
     "name": "stdout",
     "output_type": "stream",
     "text": [
      "Num Features: %d\n"
     ]
    },
    {
     "ename": "TypeError",
     "evalue": "unsupported operand type(s) for %: 'NoneType' and 'int'",
     "output_type": "error",
     "traceback": [
      "\u001b[0;31m---------------------------------------------------------------------------\u001b[0m",
      "\u001b[0;31mTypeError\u001b[0m                                 Traceback (most recent call last)",
      "\u001b[0;32m<ipython-input-106-8de75d2720ea>\u001b[0m in \u001b[0;36m<module>\u001b[0;34m()\u001b[0m\n\u001b[1;32m      3\u001b[0m \u001b[0mrfe\u001b[0m \u001b[0;34m=\u001b[0m \u001b[0mRFE\u001b[0m\u001b[0;34m(\u001b[0m\u001b[0mmodel\u001b[0m\u001b[0;34m,\u001b[0m \u001b[0;36m50\u001b[0m\u001b[0;34m)\u001b[0m\u001b[0;34m\u001b[0m\u001b[0m\n\u001b[1;32m      4\u001b[0m \u001b[0mfit\u001b[0m \u001b[0;34m=\u001b[0m \u001b[0mrfe\u001b[0m\u001b[0;34m.\u001b[0m\u001b[0mfit\u001b[0m\u001b[0;34m(\u001b[0m\u001b[0mx\u001b[0m\u001b[0;34m.\u001b[0m\u001b[0mvalues\u001b[0m\u001b[0;34m,\u001b[0m \u001b[0my\u001b[0m\u001b[0;34m)\u001b[0m\u001b[0;34m\u001b[0m\u001b[0m\n\u001b[0;32m----> 5\u001b[0;31m \u001b[0mprint\u001b[0m\u001b[0;34m(\u001b[0m\u001b[0;34m\"Num Features: %d\"\u001b[0m\u001b[0;34m)\u001b[0m \u001b[0;34m%\u001b[0m \u001b[0mfit\u001b[0m\u001b[0;34m.\u001b[0m\u001b[0mn_features_\u001b[0m\u001b[0;34m\u001b[0m\u001b[0m\n\u001b[0m\u001b[1;32m      6\u001b[0m \u001b[0mprint\u001b[0m\u001b[0;34m(\u001b[0m\u001b[0;34m\"Selected Features: %s\"\u001b[0m\u001b[0;34m)\u001b[0m \u001b[0;34m%\u001b[0m \u001b[0mfit\u001b[0m\u001b[0;34m.\u001b[0m\u001b[0msupport_\u001b[0m\u001b[0;34m\u001b[0m\u001b[0m\n\u001b[1;32m      7\u001b[0m \u001b[0mprint\u001b[0m\u001b[0;34m(\u001b[0m\u001b[0;34m\"Feature Ranking: %s\"\u001b[0m\u001b[0;34m)\u001b[0m \u001b[0;34m%\u001b[0m \u001b[0mfit\u001b[0m\u001b[0;34m.\u001b[0m\u001b[0mranking_\u001b[0m\u001b[0;34m\u001b[0m\u001b[0m\n",
      "\u001b[0;31mTypeError\u001b[0m: unsupported operand type(s) for %: 'NoneType' and 'int'"
     ]
    }
   ],
   "source": [
    "# feature extraction\n",
    "model = LogisticRegression()\n",
    "rfe = RFE(model, 50)\n",
    "fit = rfe.fit(x.values, y)\n",
    "print(\"Num Features: %d\") % fit.n_features_\n",
    "print(\"Selected Features: %s\") % fit.support_\n",
    "print(\"Feature Ranking: %s\") % fit.ranking_"
   ]
  },
  {
   "cell_type": "code",
   "execution_count": 105,
   "metadata": {},
   "outputs": [
    {
     "data": {
      "text/plain": [
       "array([6, 6, 6, ..., 0, 0, 0], dtype=int8)"
      ]
     },
     "execution_count": 105,
     "metadata": {},
     "output_type": "execute_result"
    }
   ],
   "source": [
    "y"
   ]
  },
  {
   "cell_type": "code",
   "execution_count": null,
   "metadata": {},
   "outputs": [],
   "source": []
  }
 ],
 "metadata": {
  "kernelspec": {
   "display_name": "Python 3",
   "language": "python",
   "name": "python3"
  },
  "language_info": {
   "codemirror_mode": {
    "name": "ipython",
    "version": 3
   },
   "file_extension": ".py",
   "mimetype": "text/x-python",
   "name": "python",
   "nbconvert_exporter": "python",
   "pygments_lexer": "ipython3",
   "version": "3.6.5"
  }
 },
 "nbformat": 4,
 "nbformat_minor": 1
}
