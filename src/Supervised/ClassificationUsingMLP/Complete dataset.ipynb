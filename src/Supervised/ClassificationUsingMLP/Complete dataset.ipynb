{
 "cells": [
  {
   "cell_type": "code",
   "execution_count": 1,
   "metadata": {},
   "outputs": [],
   "source": [
    "import pandas as pd\n",
    "from imblearn.over_sampling import SMOTE\n",
    "\n",
    "from sklearn.model_selection import train_test_split\n",
    "import numpy as np"
   ]
  },
  {
   "cell_type": "code",
   "execution_count": 2,
   "metadata": {},
   "outputs": [],
   "source": [
    "df_complete = pd.read_csv('complete/part-00000-1c1962bd-22d7-4427-a10a-76ffb17d853e-c000.csv')"
   ]
  },
  {
   "cell_type": "code",
   "execution_count": 3,
   "metadata": {},
   "outputs": [
    {
     "data": {
      "text/plain": [
       "(2830743, 23)"
      ]
     },
     "execution_count": 3,
     "metadata": {},
     "output_type": "execute_result"
    }
   ],
   "source": [
    "df_complete.shape"
   ]
  },
  {
   "cell_type": "code",
   "execution_count": 4,
   "metadata": {},
   "outputs": [
    {
     "data": {
      "text/plain": [
       "Index(['Bwd Packets/s', 'Init_Win_bytes_backward', 'ACK Flag Count',\n",
       "       'Total Length of Fwd Packets', 'Subflow Fwd Bytes',\n",
       "       'Fwd Packet Length Mean', 'Flow IAT Min', 'Bwd IAT Mean',\n",
       "       'Flow Duration', 'Flow IAT Std', 'Active Mean', 'Fwd PSH Flags',\n",
       "       'Flow IAT Mean', 'Active Min', 'Bwd Packet Length Std',\n",
       "       'Init_Win_bytes_forward', 'Average Packet Size', 'Fwd IAT Min',\n",
       "       'SYN Flag Count', 'PSH Flag Count', 'Fwd IAT Mean', 'Fwd Packets/s',\n",
       "       'Label'],\n",
       "      dtype='object')"
      ]
     },
     "execution_count": 4,
     "metadata": {},
     "output_type": "execute_result"
    }
   ],
   "source": [
    "df_complete.columns"
   ]
  },
  {
   "cell_type": "code",
   "execution_count": 5,
   "metadata": {},
   "outputs": [],
   "source": [
    "y= df_complete.pop('Label')"
   ]
  },
  {
   "cell_type": "code",
   "execution_count": 6,
   "metadata": {},
   "outputs": [
    {
     "data": {
      "text/plain": [
       "0    BENIGN\n",
       "1    BENIGN\n",
       "2    BENIGN\n",
       "3    BENIGN\n",
       "4    BENIGN\n",
       "Name: Label, dtype: object"
      ]
     },
     "execution_count": 6,
     "metadata": {},
     "output_type": "execute_result"
    }
   ],
   "source": [
    "y.head()"
   ]
  },
  {
   "cell_type": "code",
   "execution_count": 7,
   "metadata": {},
   "outputs": [
    {
     "data": {
      "text/plain": [
       "Index(['Bwd Packets/s', 'Init_Win_bytes_backward', 'ACK Flag Count',\n",
       "       'Total Length of Fwd Packets', 'Subflow Fwd Bytes',\n",
       "       'Fwd Packet Length Mean', 'Flow IAT Min', 'Bwd IAT Mean',\n",
       "       'Flow Duration', 'Flow IAT Std', 'Active Mean', 'Fwd PSH Flags',\n",
       "       'Flow IAT Mean', 'Active Min', 'Bwd Packet Length Std',\n",
       "       'Init_Win_bytes_forward', 'Average Packet Size', 'Fwd IAT Min',\n",
       "       'SYN Flag Count', 'PSH Flag Count', 'Fwd IAT Mean', 'Fwd Packets/s'],\n",
       "      dtype='object')"
      ]
     },
     "execution_count": 7,
     "metadata": {},
     "output_type": "execute_result"
    }
   ],
   "source": [
    "df_complete.columns"
   ]
  },
  {
   "cell_type": "code",
   "execution_count": 8,
   "metadata": {},
   "outputs": [],
   "source": [
    "X_train, X_validtest, y_train, y_validtest = train_test_split(df_complete, y, test_size=0.20, random_state=42,stratify=y)\n",
    "X_valid, X_test, y_valid, y_test = train_test_split(X_validtest, y_validtest, test_size=0.50, random_state=42,stratify=y_validtest)\n",
    "\n"
   ]
  },
  {
   "cell_type": "code",
   "execution_count": 9,
   "metadata": {},
   "outputs": [
    {
     "name": "stderr",
     "output_type": "stream",
     "text": [
      "/Users/gauravvashisth/anaconda3/envs/envtf/lib/python3.6/site-packages/sklearn/utils/deprecation.py:77: DeprecationWarning: Function _ratio_float is deprecated; Use a float for 'ratio' is deprecated from version 0.2. The support will be removed in 0.4. Use a dict, str, or a callable instead.\n",
      "  warnings.warn(msg, category=DeprecationWarning)\n"
     ]
    }
   ],
   "source": [
    "\n",
    "sm = SMOTE(random_state=12, ratio = 1.0)\n",
    "x_res, y_res = sm.fit_sample(X_train, y_train)"
   ]
  },
  {
   "cell_type": "code",
   "execution_count": 10,
   "metadata": {},
   "outputs": [],
   "source": [
    "np.savetxt('multiclass-tensor/completeStratified/X_train.np',x_res)\n",
    "np.savetxt('multiclass-tensor/completeStratified/y_train.np',pd.get_dummies(y_res).values)\n",
    "np.savetxt('multiclass-tensor/completeStratified/X_test.np',X_test.values)\n",
    "np.savetxt('multiclass-tensor/completeStratified/y_test.np',pd.get_dummies(y_test).values)\n",
    "np.savetxt('multiclass-tensor/completeStratified/X_valid.np',X_valid.values)\n",
    "np.savetxt('multiclass-tensor/completeStratified/y_valid.np',pd.get_dummies(y_valid).values)\n"
   ]
  },
  {
   "cell_type": "code",
   "execution_count": null,
   "metadata": {},
   "outputs": [],
   "source": []
  }
 ],
 "metadata": {
  "kernelspec": {
   "display_name": "Python 3",
   "language": "python",
   "name": "python3"
  },
  "language_info": {
   "codemirror_mode": {
    "name": "ipython",
    "version": 3
   },
   "file_extension": ".py",
   "mimetype": "text/x-python",
   "name": "python",
   "nbconvert_exporter": "python",
   "pygments_lexer": "ipython3",
   "version": "3.6.5"
  }
 },
 "nbformat": 4,
 "nbformat_minor": 2
}
